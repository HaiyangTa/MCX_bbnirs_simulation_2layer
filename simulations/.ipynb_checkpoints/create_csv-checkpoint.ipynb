{
 "cells": [
  {
   "cell_type": "markdown",
   "id": "088326ce-951b-49f9-b701-692f2912116f",
   "metadata": {},
   "source": [
    "## Create Combinations"
   ]
  },
  {
   "cell_type": "code",
   "execution_count": 11,
   "id": "9a97556c-0db6-426d-8c9f-0ab06bd85576",
   "metadata": {},
   "outputs": [
    {
     "name": "stdout",
     "output_type": "stream",
     "text": [
      "CSV file with combinations saved as 'parameter_combinations.csv'.\n"
     ]
    }
   ],
   "source": [
    "import itertools\n",
    "import pandas as pd\n",
    "\n",
    "# Define the values\n",
    "HBO1 = [5, 6.5, 8, 9.5, 11, 12.5, 14, 15.5, 17, 18.5, 20]\n",
    "HHB1 = [2.5, 3.5, 4.5, 5.5, 6.5, 7.5, 8.5, 9.5, 10.5, 11.5, 12.5]\n",
    "HBO2 = [25, 28, 31, 34, 37, 40, 43, 46, 49, 52, 55]\n",
    "HHB2 = [15, 17, 19, 21, 23, 25, 27, 29, 31, 33, 35]\n",
    "Thickness = [10, 12, 14, 16, 18, 20]\n",
    "\n",
    "# Generate all combinations\n",
    "combinations = itertools.product(HBO1, HHB1, HBO2, HHB2, Thickness)\n",
    "\n",
    "# Create DataFrame\n",
    "df = pd.DataFrame(combinations, columns=[\"HBO1\", \"HHB1\", \"HBO2\", \"HHB2\", \"Thickness\"])\n",
    "\n",
    "# Add 'complete' column initialized to False\n",
    "df[\"complete\"] = False\n",
    "\n",
    "# Save to CSV\n",
    "df.to_csv(\"combinations.csv\", index=False)\n",
    "\n",
    "print(\"CSV file with combinations saved as 'parameter_combinations.csv'.\")"
   ]
  },
  {
   "cell_type": "code",
   "execution_count": null,
   "id": "85ecda3a-8a52-4241-92e1-3dd626d418f8",
   "metadata": {},
   "outputs": [],
   "source": []
  }
 ],
 "metadata": {
  "kernelspec": {
   "display_name": "Python [conda env:base] *",
   "language": "python",
   "name": "conda-base-py"
  },
  "language_info": {
   "codemirror_mode": {
    "name": "ipython",
    "version": 3
   },
   "file_extension": ".py",
   "mimetype": "text/x-python",
   "name": "python",
   "nbconvert_exporter": "python",
   "pygments_lexer": "ipython3",
   "version": "3.12.3"
  }
 },
 "nbformat": 4,
 "nbformat_minor": 5
}
