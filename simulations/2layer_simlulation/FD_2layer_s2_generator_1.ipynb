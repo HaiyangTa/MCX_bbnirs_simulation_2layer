{
  "nbformat": 4,
  "nbformat_minor": 0,
  "metadata": {
    "colab": {
      "provenance": [],
      "gpuType": "A100"
    },
    "kernelspec": {
      "name": "python3",
      "display_name": "Python 3"
    },
    "language_info": {
      "name": "python"
    },
    "accelerator": "GPU"
  },
  "cells": [
    {
      "cell_type": "markdown",
      "source": [
        "## FD 2 layers data generator part 1\n"
      ],
      "metadata": {
        "id": "Rv03tAEfZgOW"
      }
    },
    {
      "cell_type": "code",
      "source": [
        "! pip install pmcx\n",
        "! pip install numpy pmcx jdata bjdata matplotlib"
      ],
      "metadata": {
        "colab": {
          "base_uri": "https://localhost:8080/"
        },
        "id": "J1uXmyfNZYRG",
        "outputId": "c55b70de-bbba-471b-a714-89f8de6ef6f0"
      },
      "execution_count": null,
      "outputs": [
        {
          "output_type": "stream",
          "name": "stdout",
          "text": [
            "Collecting pmcx\n",
            "  Downloading pmcx-0.4.2-cp311-cp311-manylinux2014_x86_64.manylinux_2_17_x86_64.whl.metadata (10 kB)\n",
            "Downloading pmcx-0.4.2-cp311-cp311-manylinux2014_x86_64.manylinux_2_17_x86_64.whl (4.9 MB)\n",
            "\u001b[2K   \u001b[90m━━━━━━━━━━━━━━━━━━━━━━━━━━━━━━━━━━━━━━━━\u001b[0m \u001b[32m4.9/4.9 MB\u001b[0m \u001b[31m53.3 MB/s\u001b[0m eta \u001b[36m0:00:00\u001b[0m\n",
            "\u001b[?25h"
          ]
        }
      ]
    },
    {
      "cell_type": "code",
      "source": [
        "from google.colab import drive\n",
        "drive.mount('/content/drive')\n",
        "import sys\n",
        "import os\n",
        "import numpy as np\n",
        "import pandas as pd\n",
        "import matplotlib.pyplot as plt\n",
        "from mpl_toolkits.mplot3d import Axes3D\n",
        "import pickle\n",
        "import math\n",
        "import io"
      ],
      "metadata": {
        "id": "mjcPrAgZlPCA"
      },
      "execution_count": null,
      "outputs": []
    },
    {
      "cell_type": "code",
      "source": [
        "# Path to your folder containing the .py script\n",
        "folder_path = '/content/drive/MyDrive/MCX_data'\n",
        "sys.path.append(folder_path)\n",
        "from FD_msNIRS_2layers import mcx_sim_2layers as ms2"
      ],
      "metadata": {
        "id": "owMszfM_lea7"
      },
      "execution_count": null,
      "outputs": []
    },
    {
      "cell_type": "code",
      "source": [],
      "metadata": {
        "id": "h4vFRETMOr58"
      },
      "execution_count": null,
      "outputs": []
    },
    {
      "cell_type": "markdown",
      "source": [
        "### Read CSV and coef"
      ],
      "metadata": {
        "id": "FMkLvfw-Osvy"
      }
    },
    {
      "cell_type": "code",
      "source": [
        "# csv file to simulate: change the path!.\n",
        "csv_path = '/content/drive/MyDrive/MCX_data/stage2/stage2_part_1.csv'\n",
        "df = pd.read_csv(csv_path)\n",
        "# simulations save path\n",
        "save_path = '/content/drive/MyDrive/MCX_data/result_folder/'"
      ],
      "metadata": {
        "id": "NYkxKxFYlc9u"
      },
      "execution_count": null,
      "outputs": []
    },
    {
      "cell_type": "code",
      "source": [
        "lambdas = [784, 800, 818, 835, 851, 868, 881, 894]\n",
        "coef_path = '/content/drive/MyDrive/MCX_data/EC.xlsx'\n",
        "extinction_coeffs = pd.read_excel(coef_path)"
      ],
      "metadata": {
        "id": "iGLkArcpqtEY"
      },
      "execution_count": null,
      "outputs": []
    },
    {
      "cell_type": "code",
      "source": [
        "part_str = csv_path.split('/')[-1].replace('.csv', '').split('_')[-2] + '_' + csv_path.split('_')[-1].replace('.csv', '')\n",
        "print(part_str)\n",
        "# make in to be .1\n",
        "df['d1'] = df['d1'].round(0)"
      ],
      "metadata": {
        "colab": {
          "base_uri": "https://localhost:8080/"
        },
        "id": "9XzXtrSIqtY3",
        "outputId": "26b2782f-dfa0-46d2-bc35-61b1cb07d3a0"
      },
      "execution_count": null,
      "outputs": [
        {
          "output_type": "stream",
          "name": "stdout",
          "text": [
            "part_1\n"
          ]
        }
      ]
    },
    {
      "cell_type": "code",
      "source": [
        "df.head()"
      ],
      "metadata": {
        "colab": {
          "base_uri": "https://localhost:8080/",
          "height": 206
        },
        "id": "Xi3xZvcKNozz",
        "outputId": "c4c9f32c-1e90-4b50-e1de-e51b29f95a5b"
      },
      "execution_count": null,
      "outputs": [
        {
          "output_type": "execute_result",
          "data": {
            "text/plain": [
              "        HBO1       HHB1       HBO2      HHB2    d1        a1        a2  \\\n",
              "0  10.618102  12.007143  46.959818  26.97317  12.0  1.835967  1.280059   \n",
              "1  18.118102   7.007143  31.959818  16.97317  17.0  4.835967  2.830059   \n",
              "2   6.868102   4.507143  39.459818  31.97317  19.0  3.335967  3.605059   \n",
              "3  14.368102   9.507143  54.459818  21.97317  14.0  6.335967  2.055059   \n",
              "4  16.243102   5.757143  35.709818  29.47317  10.0  1.085967  1.667559   \n",
              "\n",
              "         b1        b2  ID  \n",
              "0  2.178823  2.103345   1  \n",
              "1  0.978823  0.603345   2  \n",
              "2  0.378823  2.853345   3  \n",
              "3  1.578823  1.353345   4  \n",
              "4  1.278823  2.478345   5  "
            ],
            "text/html": [
              "\n",
              "  <div id=\"df-a8121846-38f2-4d21-8131-68dd5afa86f1\" class=\"colab-df-container\">\n",
              "    <div>\n",
              "<style scoped>\n",
              "    .dataframe tbody tr th:only-of-type {\n",
              "        vertical-align: middle;\n",
              "    }\n",
              "\n",
              "    .dataframe tbody tr th {\n",
              "        vertical-align: top;\n",
              "    }\n",
              "\n",
              "    .dataframe thead th {\n",
              "        text-align: right;\n",
              "    }\n",
              "</style>\n",
              "<table border=\"1\" class=\"dataframe\">\n",
              "  <thead>\n",
              "    <tr style=\"text-align: right;\">\n",
              "      <th></th>\n",
              "      <th>HBO1</th>\n",
              "      <th>HHB1</th>\n",
              "      <th>HBO2</th>\n",
              "      <th>HHB2</th>\n",
              "      <th>d1</th>\n",
              "      <th>a1</th>\n",
              "      <th>a2</th>\n",
              "      <th>b1</th>\n",
              "      <th>b2</th>\n",
              "      <th>ID</th>\n",
              "    </tr>\n",
              "  </thead>\n",
              "  <tbody>\n",
              "    <tr>\n",
              "      <th>0</th>\n",
              "      <td>10.618102</td>\n",
              "      <td>12.007143</td>\n",
              "      <td>46.959818</td>\n",
              "      <td>26.97317</td>\n",
              "      <td>12.0</td>\n",
              "      <td>1.835967</td>\n",
              "      <td>1.280059</td>\n",
              "      <td>2.178823</td>\n",
              "      <td>2.103345</td>\n",
              "      <td>1</td>\n",
              "    </tr>\n",
              "    <tr>\n",
              "      <th>1</th>\n",
              "      <td>18.118102</td>\n",
              "      <td>7.007143</td>\n",
              "      <td>31.959818</td>\n",
              "      <td>16.97317</td>\n",
              "      <td>17.0</td>\n",
              "      <td>4.835967</td>\n",
              "      <td>2.830059</td>\n",
              "      <td>0.978823</td>\n",
              "      <td>0.603345</td>\n",
              "      <td>2</td>\n",
              "    </tr>\n",
              "    <tr>\n",
              "      <th>2</th>\n",
              "      <td>6.868102</td>\n",
              "      <td>4.507143</td>\n",
              "      <td>39.459818</td>\n",
              "      <td>31.97317</td>\n",
              "      <td>19.0</td>\n",
              "      <td>3.335967</td>\n",
              "      <td>3.605059</td>\n",
              "      <td>0.378823</td>\n",
              "      <td>2.853345</td>\n",
              "      <td>3</td>\n",
              "    </tr>\n",
              "    <tr>\n",
              "      <th>3</th>\n",
              "      <td>14.368102</td>\n",
              "      <td>9.507143</td>\n",
              "      <td>54.459818</td>\n",
              "      <td>21.97317</td>\n",
              "      <td>14.0</td>\n",
              "      <td>6.335967</td>\n",
              "      <td>2.055059</td>\n",
              "      <td>1.578823</td>\n",
              "      <td>1.353345</td>\n",
              "      <td>4</td>\n",
              "    </tr>\n",
              "    <tr>\n",
              "      <th>4</th>\n",
              "      <td>16.243102</td>\n",
              "      <td>5.757143</td>\n",
              "      <td>35.709818</td>\n",
              "      <td>29.47317</td>\n",
              "      <td>10.0</td>\n",
              "      <td>1.085967</td>\n",
              "      <td>1.667559</td>\n",
              "      <td>1.278823</td>\n",
              "      <td>2.478345</td>\n",
              "      <td>5</td>\n",
              "    </tr>\n",
              "  </tbody>\n",
              "</table>\n",
              "</div>\n",
              "    <div class=\"colab-df-buttons\">\n",
              "\n",
              "  <div class=\"colab-df-container\">\n",
              "    <button class=\"colab-df-convert\" onclick=\"convertToInteractive('df-a8121846-38f2-4d21-8131-68dd5afa86f1')\"\n",
              "            title=\"Convert this dataframe to an interactive table.\"\n",
              "            style=\"display:none;\">\n",
              "\n",
              "  <svg xmlns=\"http://www.w3.org/2000/svg\" height=\"24px\" viewBox=\"0 -960 960 960\">\n",
              "    <path d=\"M120-120v-720h720v720H120Zm60-500h600v-160H180v160Zm220 220h160v-160H400v160Zm0 220h160v-160H400v160ZM180-400h160v-160H180v160Zm440 0h160v-160H620v160ZM180-180h160v-160H180v160Zm440 0h160v-160H620v160Z\"/>\n",
              "  </svg>\n",
              "    </button>\n",
              "\n",
              "  <style>\n",
              "    .colab-df-container {\n",
              "      display:flex;\n",
              "      gap: 12px;\n",
              "    }\n",
              "\n",
              "    .colab-df-convert {\n",
              "      background-color: #E8F0FE;\n",
              "      border: none;\n",
              "      border-radius: 50%;\n",
              "      cursor: pointer;\n",
              "      display: none;\n",
              "      fill: #1967D2;\n",
              "      height: 32px;\n",
              "      padding: 0 0 0 0;\n",
              "      width: 32px;\n",
              "    }\n",
              "\n",
              "    .colab-df-convert:hover {\n",
              "      background-color: #E2EBFA;\n",
              "      box-shadow: 0px 1px 2px rgba(60, 64, 67, 0.3), 0px 1px 3px 1px rgba(60, 64, 67, 0.15);\n",
              "      fill: #174EA6;\n",
              "    }\n",
              "\n",
              "    .colab-df-buttons div {\n",
              "      margin-bottom: 4px;\n",
              "    }\n",
              "\n",
              "    [theme=dark] .colab-df-convert {\n",
              "      background-color: #3B4455;\n",
              "      fill: #D2E3FC;\n",
              "    }\n",
              "\n",
              "    [theme=dark] .colab-df-convert:hover {\n",
              "      background-color: #434B5C;\n",
              "      box-shadow: 0px 1px 3px 1px rgba(0, 0, 0, 0.15);\n",
              "      filter: drop-shadow(0px 1px 2px rgba(0, 0, 0, 0.3));\n",
              "      fill: #FFFFFF;\n",
              "    }\n",
              "  </style>\n",
              "\n",
              "    <script>\n",
              "      const buttonEl =\n",
              "        document.querySelector('#df-a8121846-38f2-4d21-8131-68dd5afa86f1 button.colab-df-convert');\n",
              "      buttonEl.style.display =\n",
              "        google.colab.kernel.accessAllowed ? 'block' : 'none';\n",
              "\n",
              "      async function convertToInteractive(key) {\n",
              "        const element = document.querySelector('#df-a8121846-38f2-4d21-8131-68dd5afa86f1');\n",
              "        const dataTable =\n",
              "          await google.colab.kernel.invokeFunction('convertToInteractive',\n",
              "                                                    [key], {});\n",
              "        if (!dataTable) return;\n",
              "\n",
              "        const docLinkHtml = 'Like what you see? Visit the ' +\n",
              "          '<a target=\"_blank\" href=https://colab.research.google.com/notebooks/data_table.ipynb>data table notebook</a>'\n",
              "          + ' to learn more about interactive tables.';\n",
              "        element.innerHTML = '';\n",
              "        dataTable['output_type'] = 'display_data';\n",
              "        await google.colab.output.renderOutput(dataTable, element);\n",
              "        const docLink = document.createElement('div');\n",
              "        docLink.innerHTML = docLinkHtml;\n",
              "        element.appendChild(docLink);\n",
              "      }\n",
              "    </script>\n",
              "  </div>\n",
              "\n",
              "\n",
              "    <div id=\"df-7ee7e438-f16c-4a41-8af8-9068aa28a5d3\">\n",
              "      <button class=\"colab-df-quickchart\" onclick=\"quickchart('df-7ee7e438-f16c-4a41-8af8-9068aa28a5d3')\"\n",
              "                title=\"Suggest charts\"\n",
              "                style=\"display:none;\">\n",
              "\n",
              "<svg xmlns=\"http://www.w3.org/2000/svg\" height=\"24px\"viewBox=\"0 0 24 24\"\n",
              "     width=\"24px\">\n",
              "    <g>\n",
              "        <path d=\"M19 3H5c-1.1 0-2 .9-2 2v14c0 1.1.9 2 2 2h14c1.1 0 2-.9 2-2V5c0-1.1-.9-2-2-2zM9 17H7v-7h2v7zm4 0h-2V7h2v10zm4 0h-2v-4h2v4z\"/>\n",
              "    </g>\n",
              "</svg>\n",
              "      </button>\n",
              "\n",
              "<style>\n",
              "  .colab-df-quickchart {\n",
              "      --bg-color: #E8F0FE;\n",
              "      --fill-color: #1967D2;\n",
              "      --hover-bg-color: #E2EBFA;\n",
              "      --hover-fill-color: #174EA6;\n",
              "      --disabled-fill-color: #AAA;\n",
              "      --disabled-bg-color: #DDD;\n",
              "  }\n",
              "\n",
              "  [theme=dark] .colab-df-quickchart {\n",
              "      --bg-color: #3B4455;\n",
              "      --fill-color: #D2E3FC;\n",
              "      --hover-bg-color: #434B5C;\n",
              "      --hover-fill-color: #FFFFFF;\n",
              "      --disabled-bg-color: #3B4455;\n",
              "      --disabled-fill-color: #666;\n",
              "  }\n",
              "\n",
              "  .colab-df-quickchart {\n",
              "    background-color: var(--bg-color);\n",
              "    border: none;\n",
              "    border-radius: 50%;\n",
              "    cursor: pointer;\n",
              "    display: none;\n",
              "    fill: var(--fill-color);\n",
              "    height: 32px;\n",
              "    padding: 0;\n",
              "    width: 32px;\n",
              "  }\n",
              "\n",
              "  .colab-df-quickchart:hover {\n",
              "    background-color: var(--hover-bg-color);\n",
              "    box-shadow: 0 1px 2px rgba(60, 64, 67, 0.3), 0 1px 3px 1px rgba(60, 64, 67, 0.15);\n",
              "    fill: var(--button-hover-fill-color);\n",
              "  }\n",
              "\n",
              "  .colab-df-quickchart-complete:disabled,\n",
              "  .colab-df-quickchart-complete:disabled:hover {\n",
              "    background-color: var(--disabled-bg-color);\n",
              "    fill: var(--disabled-fill-color);\n",
              "    box-shadow: none;\n",
              "  }\n",
              "\n",
              "  .colab-df-spinner {\n",
              "    border: 2px solid var(--fill-color);\n",
              "    border-color: transparent;\n",
              "    border-bottom-color: var(--fill-color);\n",
              "    animation:\n",
              "      spin 1s steps(1) infinite;\n",
              "  }\n",
              "\n",
              "  @keyframes spin {\n",
              "    0% {\n",
              "      border-color: transparent;\n",
              "      border-bottom-color: var(--fill-color);\n",
              "      border-left-color: var(--fill-color);\n",
              "    }\n",
              "    20% {\n",
              "      border-color: transparent;\n",
              "      border-left-color: var(--fill-color);\n",
              "      border-top-color: var(--fill-color);\n",
              "    }\n",
              "    30% {\n",
              "      border-color: transparent;\n",
              "      border-left-color: var(--fill-color);\n",
              "      border-top-color: var(--fill-color);\n",
              "      border-right-color: var(--fill-color);\n",
              "    }\n",
              "    40% {\n",
              "      border-color: transparent;\n",
              "      border-right-color: var(--fill-color);\n",
              "      border-top-color: var(--fill-color);\n",
              "    }\n",
              "    60% {\n",
              "      border-color: transparent;\n",
              "      border-right-color: var(--fill-color);\n",
              "    }\n",
              "    80% {\n",
              "      border-color: transparent;\n",
              "      border-right-color: var(--fill-color);\n",
              "      border-bottom-color: var(--fill-color);\n",
              "    }\n",
              "    90% {\n",
              "      border-color: transparent;\n",
              "      border-bottom-color: var(--fill-color);\n",
              "    }\n",
              "  }\n",
              "</style>\n",
              "\n",
              "      <script>\n",
              "        async function quickchart(key) {\n",
              "          const quickchartButtonEl =\n",
              "            document.querySelector('#' + key + ' button');\n",
              "          quickchartButtonEl.disabled = true;  // To prevent multiple clicks.\n",
              "          quickchartButtonEl.classList.add('colab-df-spinner');\n",
              "          try {\n",
              "            const charts = await google.colab.kernel.invokeFunction(\n",
              "                'suggestCharts', [key], {});\n",
              "          } catch (error) {\n",
              "            console.error('Error during call to suggestCharts:', error);\n",
              "          }\n",
              "          quickchartButtonEl.classList.remove('colab-df-spinner');\n",
              "          quickchartButtonEl.classList.add('colab-df-quickchart-complete');\n",
              "        }\n",
              "        (() => {\n",
              "          let quickchartButtonEl =\n",
              "            document.querySelector('#df-7ee7e438-f16c-4a41-8af8-9068aa28a5d3 button');\n",
              "          quickchartButtonEl.style.display =\n",
              "            google.colab.kernel.accessAllowed ? 'block' : 'none';\n",
              "        })();\n",
              "      </script>\n",
              "    </div>\n",
              "\n",
              "    </div>\n",
              "  </div>\n"
            ],
            "application/vnd.google.colaboratory.intrinsic+json": {
              "type": "dataframe",
              "variable_name": "df",
              "summary": "{\n  \"name\": \"df\",\n  \"rows\": 500,\n  \"fields\": [\n    {\n      \"column\": \"HBO1\",\n      \"properties\": {\n        \"dtype\": \"number\",\n        \"std\": 4.333661295581908,\n        \"min\": 5.051695532710437,\n        \"max\": 19.99310178271044,\n        \"num_unique_values\": 500,\n        \"samples\": [\n          6.604429907710437,\n          6.282164282710437,\n          6.135679907710437\n        ],\n        \"semantic_type\": \"\",\n        \"description\": \"\"\n      }\n    },\n    {\n      \"column\": \"HHB1\",\n      \"properties\": {\n        \"dtype\": \"number\",\n        \"std\": 2.8889644630624436,\n        \"min\": 2.5149555640991617,\n        \"max\": 12.49542431409916,\n        \"num_unique_values\": 500,\n        \"samples\": [\n          7.534486814099162,\n          9.11651806409916,\n          12.22198681409916\n        ],\n        \"semantic_type\": \"\",\n        \"description\": \"\"\n      }\n    },\n    {\n      \"column\": \"HBO2\",\n      \"properties\": {\n        \"dtype\": \"number\",\n        \"std\": 8.667777782157415,\n        \"min\": 25.04575575434215,\n        \"max\": 54.98716200434215,\n        \"num_unique_values\": 500,\n        \"samples\": [\n          34.94809950434215,\n          35.94419325434215,\n          45.26059950434215\n        ],\n        \"semantic_type\": \"\",\n        \"description\": \"\"\n      }\n    },\n    {\n      \"column\": \"HHB2\",\n      \"properties\": {\n        \"dtype\": \"number\",\n        \"std\": 5.778095839726625,\n        \"min\": 15.020044683940732,\n        \"max\": 34.98098218394073,\n        \"num_unique_values\": 500,\n        \"samples\": [\n          29.66848218394073,\n          26.81691968394073,\n          29.04348218394073\n        ],\n        \"semantic_type\": \"\",\n        \"description\": \"\"\n      }\n    },\n    {\n      \"column\": \"d1\",\n      \"properties\": {\n        \"dtype\": \"number\",\n        \"std\": 2.9169973855824787,\n        \"min\": 10.0,\n        \"max\": 20.0,\n        \"num_unique_values\": 11,\n        \"samples\": [\n          15.0,\n          12.0,\n          16.0\n        ],\n        \"semantic_type\": \"\",\n        \"description\": \"\"\n      }\n    },\n    {\n      \"column\": \"a1\",\n      \"properties\": {\n        \"dtype\": \"number\",\n        \"std\": 1.7335321470655856,\n        \"min\": 0.9101858720172166,\n        \"max\": 6.898467122017216,\n        \"num_unique_values\": 500,\n        \"samples\": [\n          3.042998372017216,\n          4.414092122017216,\n          4.730498372017216\n        ],\n        \"semantic_type\": \"\",\n        \"description\": \"\"\n      }\n    },\n    {\n      \"column\": \"a2\",\n      \"properties\": {\n        \"dtype\": \"number\",\n        \"std\": 0.8960314609301975,\n        \"min\": 1.104473260221419,\n        \"max\": 4.198418572721419,\n        \"num_unique_values\": 500,\n        \"samples\": [\n          2.1216607602214186,\n          1.1589654477214189,\n          3.5747857602214186\n        ],\n        \"semantic_type\": \"\",\n        \"description\": \"\"\n      }\n    },\n    {\n      \"column\": \"b1\",\n      \"properties\": {\n        \"dtype\": \"number\",\n        \"std\": 0.6937680723963541,\n        \"min\": 0.1022602498598441,\n        \"max\": 2.4975727498598443,\n        \"num_unique_values\": 500,\n        \"samples\": [\n          0.2803852498598441,\n          1.5975727498598442,\n          0.955385249859844\n        ],\n        \"semantic_type\": \"\",\n        \"description\": \"\"\n      }\n    },\n    {\n      \"column\": \"b2\",\n      \"properties\": {\n        \"dtype\": \"number\",\n        \"std\": 0.8672149649688549,\n        \"min\": 0.304516910229626,\n        \"max\": 3.2986575352296263,\n        \"num_unique_values\": 500,\n        \"samples\": [\n          0.304516910229626,\n          0.7674075352296261,\n          0.5857669102296261\n        ],\n        \"semantic_type\": \"\",\n        \"description\": \"\"\n      }\n    },\n    {\n      \"column\": \"ID\",\n      \"properties\": {\n        \"dtype\": \"number\",\n        \"std\": 144,\n        \"min\": 1,\n        \"max\": 500,\n        \"num_unique_values\": 500,\n        \"samples\": [\n          362,\n          74,\n          375\n        ],\n        \"semantic_type\": \"\",\n        \"description\": \"\"\n      }\n    }\n  ]\n}"
            }
          },
          "metadata": {},
          "execution_count": 7
        }
      ]
    },
    {
      "cell_type": "markdown",
      "source": [
        "### Generate data using package"
      ],
      "metadata": {
        "id": "1AIvONi7NhsM"
      }
    },
    {
      "cell_type": "code",
      "source": [
        "import os\n",
        "\n",
        "# List all .pkl files in the folder\n",
        "existing_files = [f for f in os.listdir(save_path) if f.endswith('.pkl')]\n",
        "\n",
        "# Extract numeric IDs from filenames like \"123.pkl\"\n",
        "existing_ids = [int(f.replace('.pkl', '')) for f in existing_files if f.replace('.pkl', '').isdigit()]\n",
        "\n",
        "if existing_ids:\n",
        "    next_id = max(existing_ids) + 1\n",
        "else:\n",
        "    next_id = min_id = df['ID'].min()\n",
        "\n",
        "print(f'Next ID to run: {next_id}')"
      ],
      "metadata": {
        "colab": {
          "base_uri": "https://localhost:8080/"
        },
        "id": "RuHiDbCXa2cT",
        "outputId": "7d5677f4-3cc6-4cc1-ab02-c5e2e95150ed"
      },
      "execution_count": null,
      "outputs": [
        {
          "output_type": "stream",
          "name": "stdout",
          "text": [
            "Next ID to run: 2\n"
          ]
        }
      ]
    },
    {
      "cell_type": "code",
      "source": [
        "import pickle"
      ],
      "metadata": {
        "id": "FETVsFXTa2gX"
      },
      "execution_count": null,
      "outputs": []
    },
    {
      "cell_type": "code",
      "source": [
        "min_id = df['ID'].min()\n",
        "max_id = df['ID'].max()\n",
        "\n",
        "for i in range (next_id, max_id+1):\n",
        "  first_row = df[df['ID'] == i].iloc[0]\n",
        "  HBO1=first_row['HBO1']\n",
        "  HHB1=first_row['HHB1']\n",
        "  HBO2=first_row['HBO2']\n",
        "  HHB2=first_row['HHB2']\n",
        "  d1=first_row['d1']\n",
        "  a1=first_row['a1']\n",
        "  a2=first_row['a2']\n",
        "  b1=first_row['b1']\n",
        "  b2=first_row['b2']\n",
        "  id=first_row['ID']\n",
        "  data = ms2(hbo1=HBO1, hhb1 =HHB1, hbo2=HBO2, hhb2=HHB2, l1=d1, coef_path = extinction_coeffs, a1=a1, b1=b1, a2 = a2, b2 = b2, tend=1e-08, devf=1000, nphoton=1.2e8)\n",
        "  with open(f'{save_path}{int(id)}.pkl', 'wb') as f:\n",
        "    pickle.dump(data, f)\n",
        "    print(f'{save_path}{int(id)}.pkl', ' saved')"
      ],
      "metadata": {
        "colab": {
          "base_uri": "https://localhost:8080/"
        },
        "id": "pKJaaBV5NhMC",
        "outputId": "712c7bbd-b9bd-4910-c6a1-2f2bafba5291"
      },
      "execution_count": null,
      "outputs": [
        {
          "output_type": "stream",
          "name": "stdout",
          "text": [
            "nphoton: 1.2e+08\n",
            "tstart: 0\n",
            "tstep: 1e-11\n",
            "tend: 1e-08\n",
            "maxdetphoton: 1.2e+08\n",
            "issrcfrom0: 1\n",
            "autopilot: 1\n",
            "unitinmm: 1\n",
            "issaveref: 1\n",
            "issavedet: 1\n",
            "nphoton: 1.2e+08\n",
            "tstart: 0\n",
            "tstep: 1e-11\n",
            "tend: 1e-08\n",
            "maxdetphoton: 1.2e+08\n",
            "issrcfrom0: 1\n",
            "autopilot: 1\n",
            "unitinmm: 1\n",
            "issaveref: 1\n",
            "issavedet: 1\n",
            "nphoton: 1.2e+08\n",
            "tstart: 0\n",
            "tstep: 1e-11\n",
            "tend: 1e-08\n",
            "maxdetphoton: 1.2e+08\n",
            "issrcfrom0: 1\n",
            "autopilot: 1\n",
            "unitinmm: 1\n",
            "issaveref: 1\n",
            "issavedet: 1\n",
            "nphoton: 1.2e+08\n",
            "tstart: 0\n",
            "tstep: 1e-11\n",
            "tend: 1e-08\n",
            "maxdetphoton: 1.2e+08\n",
            "issrcfrom0: 1\n",
            "autopilot: 1\n",
            "unitinmm: 1\n",
            "issaveref: 1\n",
            "issavedet: 1\n",
            "nphoton: 1.2e+08\n",
            "tstart: 0\n",
            "tstep: 1e-11\n",
            "tend: 1e-08\n",
            "maxdetphoton: 1.2e+08\n",
            "issrcfrom0: 1\n",
            "autopilot: 1\n",
            "unitinmm: 1\n",
            "issaveref: 1\n",
            "issavedet: 1\n",
            "nphoton: 1.2e+08\n",
            "tstart: 0\n",
            "tstep: 1e-11\n",
            "tend: 1e-08\n",
            "maxdetphoton: 1.2e+08\n",
            "issrcfrom0: 1\n",
            "autopilot: 1\n",
            "unitinmm: 1\n",
            "issaveref: 1\n",
            "issavedet: 1\n",
            "nphoton: 1.2e+08\n",
            "tstart: 0\n",
            "tstep: 1e-11\n",
            "tend: 1e-08\n",
            "maxdetphoton: 1.2e+08\n",
            "issrcfrom0: 1\n",
            "autopilot: 1\n",
            "unitinmm: 1\n",
            "issaveref: 1\n",
            "issavedet: 1\n",
            "nphoton: 1.2e+08\n",
            "tstart: 0\n",
            "tstep: 1e-11\n",
            "tend: 1e-08\n",
            "maxdetphoton: 1.2e+08\n",
            "issrcfrom0: 1\n",
            "autopilot: 1\n",
            "unitinmm: 1\n",
            "issaveref: 1\n",
            "issavedet: 1\n",
            "/content/drive/MyDrive/MCX_data/result_folder/stage2/part1/2.pkl  saved\n",
            "nphoton: 1.2e+08\n",
            "tstart: 0\n",
            "tstep: 1e-11\n",
            "tend: 1e-08\n",
            "maxdetphoton: 1.2e+08\n",
            "issrcfrom0: 1\n",
            "autopilot: 1\n",
            "unitinmm: 1\n",
            "issaveref: 1\n",
            "issavedet: 1\n",
            "nphoton: 1.2e+08\n",
            "tstart: 0\n",
            "tstep: 1e-11\n",
            "tend: 1e-08\n",
            "maxdetphoton: 1.2e+08\n",
            "issrcfrom0: 1\n",
            "autopilot: 1\n",
            "unitinmm: 1\n",
            "issaveref: 1\n"
          ]
        }
      ]
    },
    {
      "cell_type": "code",
      "source": [],
      "metadata": {
        "id": "ZUVLRFbCLs4X"
      },
      "execution_count": null,
      "outputs": []
    },
    {
      "cell_type": "code",
      "source": [],
      "metadata": {
        "id": "AfPquk7pXzkX"
      },
      "execution_count": null,
      "outputs": []
    },
    {
      "cell_type": "code",
      "source": [],
      "metadata": {
        "id": "DptFVMwcLtHq"
      },
      "execution_count": null,
      "outputs": []
    },
    {
      "cell_type": "code",
      "source": [],
      "metadata": {
        "id": "3A7uEmFiLtKk"
      },
      "execution_count": null,
      "outputs": []
    },
    {
      "cell_type": "code",
      "source": [],
      "metadata": {
        "id": "kFtnj9uCLtNH"
      },
      "execution_count": null,
      "outputs": []
    },
    {
      "cell_type": "code",
      "source": [],
      "metadata": {
        "id": "vsWWHKKvNhQk"
      },
      "execution_count": null,
      "outputs": []
    },
    {
      "cell_type": "code",
      "source": [],
      "metadata": {
        "id": "SOsqn_QXNhV9"
      },
      "execution_count": null,
      "outputs": []
    },
    {
      "cell_type": "code",
      "source": [],
      "metadata": {
        "id": "4kFTEPyMQFxr"
      },
      "execution_count": null,
      "outputs": []
    },
    {
      "cell_type": "code",
      "source": [],
      "metadata": {
        "id": "uPv-MGnTQF0D"
      },
      "execution_count": null,
      "outputs": []
    },
    {
      "cell_type": "code",
      "source": [],
      "metadata": {
        "id": "NPFfenAXQF2q"
      },
      "execution_count": null,
      "outputs": []
    },
    {
      "cell_type": "code",
      "source": [],
      "metadata": {
        "id": "fdAO2ySqQF5S"
      },
      "execution_count": null,
      "outputs": []
    },
    {
      "cell_type": "code",
      "source": [],
      "metadata": {
        "id": "sDFTIamZQF8a"
      },
      "execution_count": null,
      "outputs": []
    },
    {
      "cell_type": "code",
      "source": [],
      "metadata": {
        "id": "yzoc0vuOQF_a"
      },
      "execution_count": null,
      "outputs": []
    },
    {
      "cell_type": "code",
      "source": [],
      "metadata": {
        "id": "FFWWAE23QGBt"
      },
      "execution_count": null,
      "outputs": []
    },
    {
      "cell_type": "code",
      "source": [],
      "metadata": {
        "id": "WkJu-quYVdiN"
      },
      "execution_count": null,
      "outputs": []
    },
    {
      "cell_type": "code",
      "source": [],
      "metadata": {
        "id": "oQakSQXkBXQ8"
      },
      "execution_count": null,
      "outputs": []
    }
  ]
}