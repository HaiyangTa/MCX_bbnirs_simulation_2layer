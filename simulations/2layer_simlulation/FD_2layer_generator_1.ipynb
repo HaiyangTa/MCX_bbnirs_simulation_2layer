{
  "nbformat": 4,
  "nbformat_minor": 0,
  "metadata": {
    "colab": {
      "provenance": [],
      "gpuType": "A100"
    },
    "kernelspec": {
      "name": "python3",
      "display_name": "Python 3"
    },
    "language_info": {
      "name": "python"
    },
    "accelerator": "GPU"
  },
  "cells": [
    {
      "cell_type": "markdown",
      "source": [
        "## FD 2 layers data generator part 1\n"
      ],
      "metadata": {
        "id": "Rv03tAEfZgOW"
      }
    },
    {
      "cell_type": "code",
      "source": [
        "! pip install pmcx\n",
        "! pip install numpy pmcx jdata bjdata matplotlib"
      ],
      "metadata": {
        "colab": {
          "base_uri": "https://localhost:8080/"
        },
        "id": "J1uXmyfNZYRG",
        "outputId": "e7d7e81d-6dd3-467d-806a-4ba7fa234be1"
      },
      "execution_count": 1,
      "outputs": [
        {
          "output_type": "stream",
          "name": "stdout",
          "text": [
            "Requirement already satisfied: pmcx in /usr/local/lib/python3.11/dist-packages (0.4.2)\n",
            "Requirement already satisfied: numpy in /usr/local/lib/python3.11/dist-packages (2.0.2)\n",
            "Requirement already satisfied: pmcx in /usr/local/lib/python3.11/dist-packages (0.4.2)\n",
            "Requirement already satisfied: jdata in /usr/local/lib/python3.11/dist-packages (0.6.0)\n",
            "Requirement already satisfied: bjdata in /usr/local/lib/python3.11/dist-packages (0.4.1)\n",
            "Requirement already satisfied: matplotlib in /usr/local/lib/python3.11/dist-packages (3.10.0)\n",
            "Requirement already satisfied: contourpy>=1.0.1 in /usr/local/lib/python3.11/dist-packages (from matplotlib) (1.3.2)\n",
            "Requirement already satisfied: cycler>=0.10 in /usr/local/lib/python3.11/dist-packages (from matplotlib) (0.12.1)\n",
            "Requirement already satisfied: fonttools>=4.22.0 in /usr/local/lib/python3.11/dist-packages (from matplotlib) (4.58.4)\n",
            "Requirement already satisfied: kiwisolver>=1.3.1 in /usr/local/lib/python3.11/dist-packages (from matplotlib) (1.4.8)\n",
            "Requirement already satisfied: packaging>=20.0 in /usr/local/lib/python3.11/dist-packages (from matplotlib) (24.2)\n",
            "Requirement already satisfied: pillow>=8 in /usr/local/lib/python3.11/dist-packages (from matplotlib) (11.2.1)\n",
            "Requirement already satisfied: pyparsing>=2.3.1 in /usr/local/lib/python3.11/dist-packages (from matplotlib) (3.2.3)\n",
            "Requirement already satisfied: python-dateutil>=2.7 in /usr/local/lib/python3.11/dist-packages (from matplotlib) (2.9.0.post0)\n",
            "Requirement already satisfied: six>=1.5 in /usr/local/lib/python3.11/dist-packages (from python-dateutil>=2.7->matplotlib) (1.17.0)\n"
          ]
        }
      ]
    },
    {
      "cell_type": "code",
      "source": [
        "from google.colab import drive\n",
        "drive.mount('/content/drive')\n",
        "import sys\n",
        "import os\n",
        "import numpy as np\n",
        "import pandas as pd\n",
        "import matplotlib.pyplot as plt\n",
        "from mpl_toolkits.mplot3d import Axes3D\n",
        "import pickle\n",
        "import math\n",
        "import io"
      ],
      "metadata": {
        "colab": {
          "base_uri": "https://localhost:8080/"
        },
        "id": "mjcPrAgZlPCA",
        "outputId": "a5e5e49d-0acc-42f3-8e95-f0601a429c18"
      },
      "execution_count": 2,
      "outputs": [
        {
          "output_type": "stream",
          "name": "stdout",
          "text": [
            "Drive already mounted at /content/drive; to attempt to forcibly remount, call drive.mount(\"/content/drive\", force_remount=True).\n"
          ]
        }
      ]
    },
    {
      "cell_type": "code",
      "source": [
        "# Path to your folder containing the .py script\n",
        "folder_path = '/content/drive/MyDrive/MCX_data'\n",
        "sys.path.append(folder_path)\n",
        "from FD_msNIRS_2layers import mcx_sim_2layers as ms2"
      ],
      "metadata": {
        "id": "owMszfM_lea7"
      },
      "execution_count": 3,
      "outputs": []
    },
    {
      "cell_type": "code",
      "source": [],
      "metadata": {
        "id": "h4vFRETMOr58"
      },
      "execution_count": 3,
      "outputs": []
    },
    {
      "cell_type": "markdown",
      "source": [
        "### Read CSV and coef"
      ],
      "metadata": {
        "id": "FMkLvfw-Osvy"
      }
    },
    {
      "cell_type": "code",
      "source": [
        "# csv file to simulate: change the path!.\n",
        "csv_path = '/content/drive/MyDrive/MCX_data/csv/sobol_samples.csv'\n",
        "df = pd.read_csv(csv_path)\n",
        "# simulations save path\n",
        "save_path = '/content/drive/MyDrive/MCX_data/result_folder/'"
      ],
      "metadata": {
        "id": "NYkxKxFYlc9u"
      },
      "execution_count": 4,
      "outputs": []
    },
    {
      "cell_type": "code",
      "source": [
        "lambdas = [784, 800, 818, 835, 851, 868, 881, 894]\n",
        "coef_path = '/content/drive/MyDrive/MCX_data/EC.xlsx'\n",
        "extinction_coeffs = pd.read_excel(coef_path)"
      ],
      "metadata": {
        "id": "iGLkArcpqtEY"
      },
      "execution_count": 5,
      "outputs": []
    },
    {
      "cell_type": "code",
      "source": [
        "part_str = csv_path.split('/')[-1].replace('.csv', '').split('_')[-2] + '_' + csv_path.split('_')[-1].replace('.csv', '')\n",
        "print(part_str)\n",
        "# make in to be .1\n",
        "df['d1'] = df['d1'].round(0)"
      ],
      "metadata": {
        "colab": {
          "base_uri": "https://localhost:8080/"
        },
        "id": "9XzXtrSIqtY3",
        "outputId": "1e6e47ab-d01f-4b2c-998e-4a2019f43c5a"
      },
      "execution_count": 6,
      "outputs": [
        {
          "output_type": "stream",
          "name": "stdout",
          "text": [
            "sobol_samples\n"
          ]
        }
      ]
    },
    {
      "cell_type": "code",
      "source": [
        "df.head()"
      ],
      "metadata": {
        "colab": {
          "base_uri": "https://localhost:8080/",
          "height": 206
        },
        "id": "Xi3xZvcKNozz",
        "outputId": "e09e157a-1c49-4108-f0bb-84615a8b7782"
      },
      "execution_count": 7,
      "outputs": [
        {
          "output_type": "execute_result",
          "data": {
            "text/plain": [
              "        HBO1       HHB1       HBO2      HHB2    d1        a1        a2  \\\n",
              "0  10.618102  12.007143  46.959818  26.97317  12.0  0.889986  0.645209   \n",
              "1  18.118102   7.007143  31.959818  16.97317  17.0  2.139986  1.895209   \n",
              "2   6.868102   4.507143  39.459818  31.97317  19.0  1.514986  2.520209   \n",
              "3  14.368102   9.507143  54.459818  21.97317  14.0  2.764986  1.270209   \n",
              "4  16.243102   5.757143  35.709818  29.47317  10.0  0.577486  0.957709   \n",
              "\n",
              "         b1        b2  ID  \n",
              "0  1.799264  1.401673   1  \n",
              "1  1.049264  0.651673   2  \n",
              "2  0.674264  1.776673   3  \n",
              "3  1.424264  1.026673   4  \n",
              "4  1.236764  1.589173   5  "
            ],
            "text/html": [
              "\n",
              "  <div id=\"df-c6a1f3c2-e4a3-4387-a7b9-c9071847d2e8\" class=\"colab-df-container\">\n",
              "    <div>\n",
              "<style scoped>\n",
              "    .dataframe tbody tr th:only-of-type {\n",
              "        vertical-align: middle;\n",
              "    }\n",
              "\n",
              "    .dataframe tbody tr th {\n",
              "        vertical-align: top;\n",
              "    }\n",
              "\n",
              "    .dataframe thead th {\n",
              "        text-align: right;\n",
              "    }\n",
              "</style>\n",
              "<table border=\"1\" class=\"dataframe\">\n",
              "  <thead>\n",
              "    <tr style=\"text-align: right;\">\n",
              "      <th></th>\n",
              "      <th>HBO1</th>\n",
              "      <th>HHB1</th>\n",
              "      <th>HBO2</th>\n",
              "      <th>HHB2</th>\n",
              "      <th>d1</th>\n",
              "      <th>a1</th>\n",
              "      <th>a2</th>\n",
              "      <th>b1</th>\n",
              "      <th>b2</th>\n",
              "      <th>ID</th>\n",
              "    </tr>\n",
              "  </thead>\n",
              "  <tbody>\n",
              "    <tr>\n",
              "      <th>0</th>\n",
              "      <td>10.618102</td>\n",
              "      <td>12.007143</td>\n",
              "      <td>46.959818</td>\n",
              "      <td>26.97317</td>\n",
              "      <td>12.0</td>\n",
              "      <td>0.889986</td>\n",
              "      <td>0.645209</td>\n",
              "      <td>1.799264</td>\n",
              "      <td>1.401673</td>\n",
              "      <td>1</td>\n",
              "    </tr>\n",
              "    <tr>\n",
              "      <th>1</th>\n",
              "      <td>18.118102</td>\n",
              "      <td>7.007143</td>\n",
              "      <td>31.959818</td>\n",
              "      <td>16.97317</td>\n",
              "      <td>17.0</td>\n",
              "      <td>2.139986</td>\n",
              "      <td>1.895209</td>\n",
              "      <td>1.049264</td>\n",
              "      <td>0.651673</td>\n",
              "      <td>2</td>\n",
              "    </tr>\n",
              "    <tr>\n",
              "      <th>2</th>\n",
              "      <td>6.868102</td>\n",
              "      <td>4.507143</td>\n",
              "      <td>39.459818</td>\n",
              "      <td>31.97317</td>\n",
              "      <td>19.0</td>\n",
              "      <td>1.514986</td>\n",
              "      <td>2.520209</td>\n",
              "      <td>0.674264</td>\n",
              "      <td>1.776673</td>\n",
              "      <td>3</td>\n",
              "    </tr>\n",
              "    <tr>\n",
              "      <th>3</th>\n",
              "      <td>14.368102</td>\n",
              "      <td>9.507143</td>\n",
              "      <td>54.459818</td>\n",
              "      <td>21.97317</td>\n",
              "      <td>14.0</td>\n",
              "      <td>2.764986</td>\n",
              "      <td>1.270209</td>\n",
              "      <td>1.424264</td>\n",
              "      <td>1.026673</td>\n",
              "      <td>4</td>\n",
              "    </tr>\n",
              "    <tr>\n",
              "      <th>4</th>\n",
              "      <td>16.243102</td>\n",
              "      <td>5.757143</td>\n",
              "      <td>35.709818</td>\n",
              "      <td>29.47317</td>\n",
              "      <td>10.0</td>\n",
              "      <td>0.577486</td>\n",
              "      <td>0.957709</td>\n",
              "      <td>1.236764</td>\n",
              "      <td>1.589173</td>\n",
              "      <td>5</td>\n",
              "    </tr>\n",
              "  </tbody>\n",
              "</table>\n",
              "</div>\n",
              "    <div class=\"colab-df-buttons\">\n",
              "\n",
              "  <div class=\"colab-df-container\">\n",
              "    <button class=\"colab-df-convert\" onclick=\"convertToInteractive('df-c6a1f3c2-e4a3-4387-a7b9-c9071847d2e8')\"\n",
              "            title=\"Convert this dataframe to an interactive table.\"\n",
              "            style=\"display:none;\">\n",
              "\n",
              "  <svg xmlns=\"http://www.w3.org/2000/svg\" height=\"24px\" viewBox=\"0 -960 960 960\">\n",
              "    <path d=\"M120-120v-720h720v720H120Zm60-500h600v-160H180v160Zm220 220h160v-160H400v160Zm0 220h160v-160H400v160ZM180-400h160v-160H180v160Zm440 0h160v-160H620v160ZM180-180h160v-160H180v160Zm440 0h160v-160H620v160Z\"/>\n",
              "  </svg>\n",
              "    </button>\n",
              "\n",
              "  <style>\n",
              "    .colab-df-container {\n",
              "      display:flex;\n",
              "      gap: 12px;\n",
              "    }\n",
              "\n",
              "    .colab-df-convert {\n",
              "      background-color: #E8F0FE;\n",
              "      border: none;\n",
              "      border-radius: 50%;\n",
              "      cursor: pointer;\n",
              "      display: none;\n",
              "      fill: #1967D2;\n",
              "      height: 32px;\n",
              "      padding: 0 0 0 0;\n",
              "      width: 32px;\n",
              "    }\n",
              "\n",
              "    .colab-df-convert:hover {\n",
              "      background-color: #E2EBFA;\n",
              "      box-shadow: 0px 1px 2px rgba(60, 64, 67, 0.3), 0px 1px 3px 1px rgba(60, 64, 67, 0.15);\n",
              "      fill: #174EA6;\n",
              "    }\n",
              "\n",
              "    .colab-df-buttons div {\n",
              "      margin-bottom: 4px;\n",
              "    }\n",
              "\n",
              "    [theme=dark] .colab-df-convert {\n",
              "      background-color: #3B4455;\n",
              "      fill: #D2E3FC;\n",
              "    }\n",
              "\n",
              "    [theme=dark] .colab-df-convert:hover {\n",
              "      background-color: #434B5C;\n",
              "      box-shadow: 0px 1px 3px 1px rgba(0, 0, 0, 0.15);\n",
              "      filter: drop-shadow(0px 1px 2px rgba(0, 0, 0, 0.3));\n",
              "      fill: #FFFFFF;\n",
              "    }\n",
              "  </style>\n",
              "\n",
              "    <script>\n",
              "      const buttonEl =\n",
              "        document.querySelector('#df-c6a1f3c2-e4a3-4387-a7b9-c9071847d2e8 button.colab-df-convert');\n",
              "      buttonEl.style.display =\n",
              "        google.colab.kernel.accessAllowed ? 'block' : 'none';\n",
              "\n",
              "      async function convertToInteractive(key) {\n",
              "        const element = document.querySelector('#df-c6a1f3c2-e4a3-4387-a7b9-c9071847d2e8');\n",
              "        const dataTable =\n",
              "          await google.colab.kernel.invokeFunction('convertToInteractive',\n",
              "                                                    [key], {});\n",
              "        if (!dataTable) return;\n",
              "\n",
              "        const docLinkHtml = 'Like what you see? Visit the ' +\n",
              "          '<a target=\"_blank\" href=https://colab.research.google.com/notebooks/data_table.ipynb>data table notebook</a>'\n",
              "          + ' to learn more about interactive tables.';\n",
              "        element.innerHTML = '';\n",
              "        dataTable['output_type'] = 'display_data';\n",
              "        await google.colab.output.renderOutput(dataTable, element);\n",
              "        const docLink = document.createElement('div');\n",
              "        docLink.innerHTML = docLinkHtml;\n",
              "        element.appendChild(docLink);\n",
              "      }\n",
              "    </script>\n",
              "  </div>\n",
              "\n",
              "\n",
              "    <div id=\"df-36f677d3-8a7d-4818-9b40-c31a9480e3b4\">\n",
              "      <button class=\"colab-df-quickchart\" onclick=\"quickchart('df-36f677d3-8a7d-4818-9b40-c31a9480e3b4')\"\n",
              "                title=\"Suggest charts\"\n",
              "                style=\"display:none;\">\n",
              "\n",
              "<svg xmlns=\"http://www.w3.org/2000/svg\" height=\"24px\"viewBox=\"0 0 24 24\"\n",
              "     width=\"24px\">\n",
              "    <g>\n",
              "        <path d=\"M19 3H5c-1.1 0-2 .9-2 2v14c0 1.1.9 2 2 2h14c1.1 0 2-.9 2-2V5c0-1.1-.9-2-2-2zM9 17H7v-7h2v7zm4 0h-2V7h2v10zm4 0h-2v-4h2v4z\"/>\n",
              "    </g>\n",
              "</svg>\n",
              "      </button>\n",
              "\n",
              "<style>\n",
              "  .colab-df-quickchart {\n",
              "      --bg-color: #E8F0FE;\n",
              "      --fill-color: #1967D2;\n",
              "      --hover-bg-color: #E2EBFA;\n",
              "      --hover-fill-color: #174EA6;\n",
              "      --disabled-fill-color: #AAA;\n",
              "      --disabled-bg-color: #DDD;\n",
              "  }\n",
              "\n",
              "  [theme=dark] .colab-df-quickchart {\n",
              "      --bg-color: #3B4455;\n",
              "      --fill-color: #D2E3FC;\n",
              "      --hover-bg-color: #434B5C;\n",
              "      --hover-fill-color: #FFFFFF;\n",
              "      --disabled-bg-color: #3B4455;\n",
              "      --disabled-fill-color: #666;\n",
              "  }\n",
              "\n",
              "  .colab-df-quickchart {\n",
              "    background-color: var(--bg-color);\n",
              "    border: none;\n",
              "    border-radius: 50%;\n",
              "    cursor: pointer;\n",
              "    display: none;\n",
              "    fill: var(--fill-color);\n",
              "    height: 32px;\n",
              "    padding: 0;\n",
              "    width: 32px;\n",
              "  }\n",
              "\n",
              "  .colab-df-quickchart:hover {\n",
              "    background-color: var(--hover-bg-color);\n",
              "    box-shadow: 0 1px 2px rgba(60, 64, 67, 0.3), 0 1px 3px 1px rgba(60, 64, 67, 0.15);\n",
              "    fill: var(--button-hover-fill-color);\n",
              "  }\n",
              "\n",
              "  .colab-df-quickchart-complete:disabled,\n",
              "  .colab-df-quickchart-complete:disabled:hover {\n",
              "    background-color: var(--disabled-bg-color);\n",
              "    fill: var(--disabled-fill-color);\n",
              "    box-shadow: none;\n",
              "  }\n",
              "\n",
              "  .colab-df-spinner {\n",
              "    border: 2px solid var(--fill-color);\n",
              "    border-color: transparent;\n",
              "    border-bottom-color: var(--fill-color);\n",
              "    animation:\n",
              "      spin 1s steps(1) infinite;\n",
              "  }\n",
              "\n",
              "  @keyframes spin {\n",
              "    0% {\n",
              "      border-color: transparent;\n",
              "      border-bottom-color: var(--fill-color);\n",
              "      border-left-color: var(--fill-color);\n",
              "    }\n",
              "    20% {\n",
              "      border-color: transparent;\n",
              "      border-left-color: var(--fill-color);\n",
              "      border-top-color: var(--fill-color);\n",
              "    }\n",
              "    30% {\n",
              "      border-color: transparent;\n",
              "      border-left-color: var(--fill-color);\n",
              "      border-top-color: var(--fill-color);\n",
              "      border-right-color: var(--fill-color);\n",
              "    }\n",
              "    40% {\n",
              "      border-color: transparent;\n",
              "      border-right-color: var(--fill-color);\n",
              "      border-top-color: var(--fill-color);\n",
              "    }\n",
              "    60% {\n",
              "      border-color: transparent;\n",
              "      border-right-color: var(--fill-color);\n",
              "    }\n",
              "    80% {\n",
              "      border-color: transparent;\n",
              "      border-right-color: var(--fill-color);\n",
              "      border-bottom-color: var(--fill-color);\n",
              "    }\n",
              "    90% {\n",
              "      border-color: transparent;\n",
              "      border-bottom-color: var(--fill-color);\n",
              "    }\n",
              "  }\n",
              "</style>\n",
              "\n",
              "      <script>\n",
              "        async function quickchart(key) {\n",
              "          const quickchartButtonEl =\n",
              "            document.querySelector('#' + key + ' button');\n",
              "          quickchartButtonEl.disabled = true;  // To prevent multiple clicks.\n",
              "          quickchartButtonEl.classList.add('colab-df-spinner');\n",
              "          try {\n",
              "            const charts = await google.colab.kernel.invokeFunction(\n",
              "                'suggestCharts', [key], {});\n",
              "          } catch (error) {\n",
              "            console.error('Error during call to suggestCharts:', error);\n",
              "          }\n",
              "          quickchartButtonEl.classList.remove('colab-df-spinner');\n",
              "          quickchartButtonEl.classList.add('colab-df-quickchart-complete');\n",
              "        }\n",
              "        (() => {\n",
              "          let quickchartButtonEl =\n",
              "            document.querySelector('#df-36f677d3-8a7d-4818-9b40-c31a9480e3b4 button');\n",
              "          quickchartButtonEl.style.display =\n",
              "            google.colab.kernel.accessAllowed ? 'block' : 'none';\n",
              "        })();\n",
              "      </script>\n",
              "    </div>\n",
              "\n",
              "    </div>\n",
              "  </div>\n"
            ],
            "application/vnd.google.colaboratory.intrinsic+json": {
              "type": "dataframe",
              "variable_name": "df",
              "summary": "{\n  \"name\": \"df\",\n  \"rows\": 2000,\n  \"fields\": [\n    {\n      \"column\": \"HBO1\",\n      \"properties\": {\n        \"dtype\": \"number\",\n        \"std\": 4.331159851512424,\n        \"min\": 5.007750220210437,\n        \"max\": 19.99310178271044,\n        \"num_unique_values\": 2000,\n        \"samples\": [\n          16.66058225146044,\n          18.79192990771044,\n          10.024840063960436\n        ],\n        \"semantic_type\": \"\",\n        \"description\": \"\"\n      }\n    },\n    {\n      \"column\": \"HHB1\",\n      \"properties\": {\n        \"dtype\": \"number\",\n        \"std\": 2.887540601048771,\n        \"min\": 2.5003071265991617,\n        \"max\": 12.49542431409916,\n        \"num_unique_values\": 2000,\n        \"samples\": [\n          5.508119626599162,\n          10.65948681409916,\n          9.65851025159916\n        ],\n        \"semantic_type\": \"\",\n        \"description\": \"\"\n      }\n    },\n    {\n      \"column\": \"HBO2\",\n      \"properties\": {\n        \"dtype\": \"number\",\n        \"std\": 8.662566378308336,\n        \"min\": 25.00181044184215,\n        \"max\": 54.98716200434215,\n        \"num_unique_values\": 2000,\n        \"samples\": [\n          46.47641981684215,\n          40.57309950434215,\n          48.96665419184215\n        ],\n        \"semantic_type\": \"\",\n        \"description\": \"\"\n      }\n    },\n    {\n      \"column\": \"HHB2\",\n      \"properties\": {\n        \"dtype\": \"number\",\n        \"std\": 5.775080796056058,\n        \"min\": 15.000513433940732,\n        \"max\": 34.99074780894073,\n        \"num_unique_values\": 2000,\n        \"samples\": [\n          30.08840405894073,\n          18.41848218394073,\n          20.96731030894073\n        ],\n        \"semantic_type\": \"\",\n        \"description\": \"\"\n      }\n    },\n    {\n      \"column\": \"d1\",\n      \"properties\": {\n        \"dtype\": \"number\",\n        \"std\": 2.9162050898493117,\n        \"min\": 10.0,\n        \"max\": 20.0,\n        \"num_unique_values\": 11,\n        \"samples\": [\n          15.0,\n          12.0,\n          16.0\n        ],\n        \"semantic_type\": \"\",\n        \"description\": \"\"\n      }\n    },\n    {\n      \"column\": \"a1\",\n      \"properties\": {\n        \"dtype\": \"number\",\n        \"std\": 0.7218599752520701,\n        \"min\": 0.5018027070905069,\n        \"max\": 2.9993613008405067,\n        \"num_unique_values\": 2000,\n        \"samples\": [\n          1.037691378965507,\n          0.9241659883405068,\n          0.5518515352155069\n        ],\n        \"semantic_type\": \"\",\n        \"description\": \"\"\n      }\n    },\n    {\n      \"column\": \"a2\",\n      \"properties\": {\n        \"dtype\": \"number\",\n        \"std\": 0.7218623946628165,\n        \"min\": 0.5011660616704989,\n        \"max\": 2.9999453585454985,\n        \"num_unique_values\": 2000,\n        \"samples\": [\n          2.6947695772954985,\n          1.4801699679204987,\n          1.3886172335454987\n        ],\n        \"semantic_type\": \"\",\n        \"description\": \"\"\n      }\n    },\n    {\n      \"column\": \"b1\",\n      \"properties\": {\n        \"dtype\": \"number\",\n        \"std\": 0.43311684801859834,\n        \"min\": 0.5006802342874026,\n        \"max\": 1.9999478124124028,\n        \"num_unique_values\": 2000,\n        \"samples\": [\n          1.7121060155374026,\n          1.4564907811624026,\n          1.5875942967874026\n        ],\n        \"semantic_type\": \"\",\n        \"description\": \"\"\n      }\n    },\n    {\n      \"column\": \"b2\",\n      \"properties\": {\n        \"dtype\": \"number\",\n        \"std\": 0.43311750785718156,\n        \"min\": 0.500061189489813,\n        \"max\": 1.9993287676148133,\n        \"num_unique_values\": 2000,\n        \"samples\": [\n          0.936584626989813,\n          1.9085084551148133,\n          1.116760408239813\n        ],\n        \"semantic_type\": \"\",\n        \"description\": \"\"\n      }\n    },\n    {\n      \"column\": \"ID\",\n      \"properties\": {\n        \"dtype\": \"number\",\n        \"std\": 577,\n        \"min\": 1,\n        \"max\": 2000,\n        \"num_unique_values\": 2000,\n        \"samples\": [\n          1861,\n          354,\n          1334\n        ],\n        \"semantic_type\": \"\",\n        \"description\": \"\"\n      }\n    }\n  ]\n}"
            }
          },
          "metadata": {},
          "execution_count": 7
        }
      ]
    },
    {
      "cell_type": "markdown",
      "source": [
        "### Generate data using package"
      ],
      "metadata": {
        "id": "1AIvONi7NhsM"
      }
    },
    {
      "cell_type": "code",
      "source": [
        "import os\n",
        "\n",
        "save_path = '/content/drive/MyDrive/MCX_data/result_folder/'\n",
        "\n",
        "# List all .pkl files in the folder\n",
        "existing_files = [f for f in os.listdir(save_path) if f.endswith('.pkl')]\n",
        "\n",
        "# Extract numeric IDs from filenames like \"123.pkl\"\n",
        "existing_ids = [int(f.replace('.pkl', '')) for f in existing_files if f.replace('.pkl', '').isdigit()]\n",
        "\n",
        "if existing_ids:\n",
        "    next_id = max(existing_ids) + 1\n",
        "else:\n",
        "    next_id = 1  # start from 1 if no files\n",
        "\n",
        "print(f'Next ID to run: {next_id}')"
      ],
      "metadata": {
        "colab": {
          "base_uri": "https://localhost:8080/"
        },
        "id": "RuHiDbCXa2cT",
        "outputId": "bd86dd78-7038-451a-9daa-9ff26edbc445"
      },
      "execution_count": 8,
      "outputs": [
        {
          "output_type": "stream",
          "name": "stdout",
          "text": [
            "Next ID to run: 2\n"
          ]
        }
      ]
    },
    {
      "cell_type": "code",
      "source": [
        "import pickle"
      ],
      "metadata": {
        "id": "FETVsFXTa2gX"
      },
      "execution_count": 9,
      "outputs": []
    },
    {
      "cell_type": "code",
      "source": [
        "for i in range (next_id-1, len(df)):\n",
        "  first_row = df.iloc[i]\n",
        "  HBO1=first_row['HBO1']\n",
        "  HHB1=first_row['HHB1']\n",
        "  HBO2=first_row['HBO2']\n",
        "  HHB2=first_row['HHB2']\n",
        "  d1=first_row['d1']\n",
        "  a1=first_row['a1']\n",
        "  a2=first_row['a2']\n",
        "  b1=first_row['b1']\n",
        "  b2=first_row['b2']\n",
        "  id=first_row['ID']\n",
        "  data = ms2(hbo1=HBO1, hhb1 =HHB1, hbo2=HBO2, hhb2=HHB2, l1=d1, coef_path = extinction_coeffs, a1=a1, b1=b1, a2 = a2, b2 = b2, tend=1e-08, devf=1000, nphoton=1.2e8)\n",
        "  with open(f'{save_path}{int(id)}.pkl', 'wb') as f:\n",
        "    pickle.dump(data, f)\n",
        "    print(f'{save_path}{int(id)}.pkl', ' saved')"
      ],
      "metadata": {
        "colab": {
          "base_uri": "https://localhost:8080/",
          "height": 1000
        },
        "id": "pKJaaBV5NhMC",
        "outputId": "d6274f0c-1ec0-43f4-d907-f0c7c88821fb"
      },
      "execution_count": 10,
      "outputs": [
        {
          "output_type": "stream",
          "name": "stdout",
          "text": [
            "nphoton: 1.2e+08\n",
            "tstart: 0\n",
            "tstep: 1e-11\n",
            "tend: 1e-08\n",
            "maxdetphoton: 1.2e+08\n",
            "issrcfrom0: 1\n",
            "autopilot: 1\n",
            "unitinmm: 1\n",
            "issaveref: 1\n",
            "issavedet: 1\n",
            "nphoton: 1.2e+08\n",
            "tstart: 0\n",
            "tstep: 1e-11\n",
            "tend: 1e-08\n",
            "maxdetphoton: 1.2e+08\n",
            "issrcfrom0: 1\n",
            "autopilot: 1\n",
            "unitinmm: 1\n",
            "issaveref: 1\n",
            "issavedet: 1\n",
            "nphoton: 1.2e+08\n",
            "tstart: 0\n",
            "tstep: 1e-11\n",
            "tend: 1e-08\n",
            "maxdetphoton: 1.2e+08\n",
            "issrcfrom0: 1\n",
            "autopilot: 1\n",
            "unitinmm: 1\n",
            "issaveref: 1\n",
            "issavedet: 1\n",
            "nphoton: 1.2e+08\n",
            "tstart: 0\n",
            "tstep: 1e-11\n",
            "tend: 1e-08\n",
            "maxdetphoton: 1.2e+08\n",
            "issrcfrom0: 1\n",
            "autopilot: 1\n",
            "unitinmm: 1\n",
            "issaveref: 1\n",
            "issavedet: 1\n",
            "nphoton: 1.2e+08\n",
            "tstart: 0\n",
            "tstep: 1e-11\n",
            "tend: 1e-08\n",
            "maxdetphoton: 1.2e+08\n",
            "issrcfrom0: 1\n",
            "autopilot: 1\n",
            "unitinmm: 1\n",
            "issaveref: 1\n",
            "issavedet: 1\n",
            "nphoton: 1.2e+08\n",
            "tstart: 0\n",
            "tstep: 1e-11\n",
            "tend: 1e-08\n",
            "maxdetphoton: 1.2e+08\n",
            "issrcfrom0: 1\n",
            "autopilot: 1\n",
            "unitinmm: 1\n",
            "issaveref: 1\n",
            "issavedet: 1\n",
            "nphoton: 1.2e+08\n",
            "tstart: 0\n",
            "tstep: 1e-11\n",
            "tend: 1e-08\n",
            "maxdetphoton: 1.2e+08\n",
            "issrcfrom0: 1\n",
            "autopilot: 1\n",
            "unitinmm: 1\n",
            "issaveref: 1\n",
            "issavedet: 1\n",
            "nphoton: 1.2e+08\n",
            "tstart: 0\n",
            "tstep: 1e-11\n",
            "tend: 1e-08\n",
            "maxdetphoton: 1.2e+08\n",
            "issrcfrom0: 1\n",
            "autopilot: 1\n",
            "unitinmm: 1\n",
            "issaveref: 1\n",
            "issavedet: 1\n",
            "/content/drive/MyDrive/MCX_data/result_folder/2.0.pkl  saved\n",
            "nphoton: 1.2e+08\n",
            "tstart: 0\n",
            "tstep: 1e-11\n",
            "tend: 1e-08\n",
            "maxdetphoton: 1.2e+08\n",
            "issrcfrom0: 1\n",
            "autopilot: 1\n",
            "unitinmm: 1\n",
            "issaveref: 1\n",
            "issavedet: 1\n",
            "nphoton: 1.2e+08\n",
            "tstart: 0\n",
            "tstep: 1e-11\n",
            "tend: 1e-08\n",
            "maxdetphoton: 1.2e+08\n",
            "issrcfrom0: 1\n",
            "autopilot: 1\n",
            "unitinmm: 1\n",
            "issaveref: 1\n",
            "issavedet: 1\n",
            "nphoton: 1.2e+08\n",
            "tstart: 0\n",
            "tstep: 1e-11\n",
            "tend: 1e-08\n",
            "maxdetphoton: 1.2e+08\n",
            "issrcfrom0: 1\n",
            "autopilot: 1\n",
            "unitinmm: 1\n",
            "issaveref: 1\n",
            "issavedet: 1\n"
          ]
        },
        {
          "output_type": "error",
          "ename": "KeyboardInterrupt",
          "evalue": "",
          "traceback": [
            "\u001b[0;31m---------------------------------------------------------------------------\u001b[0m",
            "\u001b[0;31mKeyboardInterrupt\u001b[0m                         Traceback (most recent call last)",
            "\u001b[0;32m/tmp/ipython-input-10-2956892323.py\u001b[0m in \u001b[0;36m<cell line: 0>\u001b[0;34m()\u001b[0m\n\u001b[1;32m     11\u001b[0m   \u001b[0mb2\u001b[0m\u001b[0;34m=\u001b[0m\u001b[0mfirst_row\u001b[0m\u001b[0;34m[\u001b[0m\u001b[0;34m'b2'\u001b[0m\u001b[0;34m]\u001b[0m\u001b[0;34m\u001b[0m\u001b[0;34m\u001b[0m\u001b[0m\n\u001b[1;32m     12\u001b[0m   \u001b[0mid\u001b[0m\u001b[0;34m=\u001b[0m\u001b[0mfirst_row\u001b[0m\u001b[0;34m[\u001b[0m\u001b[0;34m'ID'\u001b[0m\u001b[0;34m]\u001b[0m\u001b[0;34m\u001b[0m\u001b[0;34m\u001b[0m\u001b[0m\n\u001b[0;32m---> 13\u001b[0;31m   \u001b[0mdata\u001b[0m \u001b[0;34m=\u001b[0m \u001b[0mms2\u001b[0m\u001b[0;34m(\u001b[0m\u001b[0mhbo1\u001b[0m\u001b[0;34m=\u001b[0m\u001b[0mHBO1\u001b[0m\u001b[0;34m,\u001b[0m \u001b[0mhhb1\u001b[0m \u001b[0;34m=\u001b[0m\u001b[0mHHB1\u001b[0m\u001b[0;34m,\u001b[0m \u001b[0mhbo2\u001b[0m\u001b[0;34m=\u001b[0m\u001b[0mHBO2\u001b[0m\u001b[0;34m,\u001b[0m \u001b[0mhhb2\u001b[0m\u001b[0;34m=\u001b[0m\u001b[0mHHB2\u001b[0m\u001b[0;34m,\u001b[0m \u001b[0ml1\u001b[0m\u001b[0;34m=\u001b[0m\u001b[0md1\u001b[0m\u001b[0;34m,\u001b[0m \u001b[0mcoef_path\u001b[0m \u001b[0;34m=\u001b[0m \u001b[0mextinction_coeffs\u001b[0m\u001b[0;34m,\u001b[0m \u001b[0ma1\u001b[0m\u001b[0;34m=\u001b[0m\u001b[0ma1\u001b[0m\u001b[0;34m,\u001b[0m \u001b[0mb1\u001b[0m\u001b[0;34m=\u001b[0m\u001b[0mb1\u001b[0m\u001b[0;34m,\u001b[0m \u001b[0ma2\u001b[0m \u001b[0;34m=\u001b[0m \u001b[0ma2\u001b[0m\u001b[0;34m,\u001b[0m \u001b[0mb2\u001b[0m \u001b[0;34m=\u001b[0m \u001b[0mb2\u001b[0m\u001b[0;34m,\u001b[0m \u001b[0mtend\u001b[0m\u001b[0;34m=\u001b[0m\u001b[0;36m1e-08\u001b[0m\u001b[0;34m,\u001b[0m \u001b[0mdevf\u001b[0m\u001b[0;34m=\u001b[0m\u001b[0;36m1000\u001b[0m\u001b[0;34m,\u001b[0m \u001b[0mnphoton\u001b[0m\u001b[0;34m=\u001b[0m\u001b[0;36m1.2e8\u001b[0m\u001b[0;34m)\u001b[0m\u001b[0;34m\u001b[0m\u001b[0;34m\u001b[0m\u001b[0m\n\u001b[0m\u001b[1;32m     14\u001b[0m   \u001b[0;32mwith\u001b[0m \u001b[0mopen\u001b[0m\u001b[0;34m(\u001b[0m\u001b[0;34mf'{save_path}{int(id)}.pkl'\u001b[0m\u001b[0;34m,\u001b[0m \u001b[0;34m'wb'\u001b[0m\u001b[0;34m)\u001b[0m \u001b[0;32mas\u001b[0m \u001b[0mf\u001b[0m\u001b[0;34m:\u001b[0m\u001b[0;34m\u001b[0m\u001b[0;34m\u001b[0m\u001b[0m\n\u001b[1;32m     15\u001b[0m     \u001b[0mpickle\u001b[0m\u001b[0;34m.\u001b[0m\u001b[0mdump\u001b[0m\u001b[0;34m(\u001b[0m\u001b[0mdata\u001b[0m\u001b[0;34m,\u001b[0m \u001b[0mf\u001b[0m\u001b[0;34m)\u001b[0m\u001b[0;34m\u001b[0m\u001b[0;34m\u001b[0m\u001b[0m\n",
            "\u001b[0;32m/content/drive/MyDrive/MCX_data/FD_msNIRS_2layers.py\u001b[0m in \u001b[0;36mmcx_sim_2layers\u001b[0;34m(hbo1, hhb1, hbo2, hhb2, l1, coef_path, a1, b1, a2, b2, lambdas, g, n, distance, tend, devf, nphoton, source_type)\u001b[0m\n\u001b[1;32m    137\u001b[0m     \u001b[0mmu_a_1\u001b[0m\u001b[0;34m,\u001b[0m \u001b[0mmu_s_1\u001b[0m\u001b[0;34m,\u001b[0m \u001b[0mmu_a_2\u001b[0m\u001b[0;34m,\u001b[0m \u001b[0mmu_s_2\u001b[0m  \u001b[0;34m=\u001b[0m \u001b[0mget_2layer_properties\u001b[0m\u001b[0;34m(\u001b[0m\u001b[0mhbo1\u001b[0m\u001b[0;34m,\u001b[0m \u001b[0mhhb1\u001b[0m\u001b[0;34m,\u001b[0m \u001b[0mhbo2\u001b[0m\u001b[0;34m,\u001b[0m \u001b[0mhhb2\u001b[0m\u001b[0;34m,\u001b[0m \u001b[0mcoef_path\u001b[0m\u001b[0;34m,\u001b[0m \u001b[0ma1\u001b[0m\u001b[0;34m,\u001b[0m \u001b[0mb1\u001b[0m\u001b[0;34m,\u001b[0m \u001b[0ma2\u001b[0m\u001b[0;34m,\u001b[0m \u001b[0mb2\u001b[0m\u001b[0;34m,\u001b[0m \u001b[0mlambdas\u001b[0m\u001b[0;34m,\u001b[0m \u001b[0mg\u001b[0m\u001b[0;34m)\u001b[0m\u001b[0;34m\u001b[0m\u001b[0;34m\u001b[0m\u001b[0m\n\u001b[1;32m    138\u001b[0m     \u001b[0;32mfor\u001b[0m \u001b[0msim_idx\u001b[0m\u001b[0;34m,\u001b[0m \u001b[0;34m(\u001b[0m\u001b[0mua1\u001b[0m\u001b[0;34m,\u001b[0m \u001b[0mus1\u001b[0m\u001b[0;34m,\u001b[0m \u001b[0mua2\u001b[0m\u001b[0;34m,\u001b[0m \u001b[0mus2\u001b[0m\u001b[0;34m)\u001b[0m \u001b[0;32min\u001b[0m \u001b[0menumerate\u001b[0m\u001b[0;34m(\u001b[0m\u001b[0mzip\u001b[0m\u001b[0;34m(\u001b[0m\u001b[0mmu_a_1\u001b[0m\u001b[0;34m,\u001b[0m \u001b[0mmu_s_1\u001b[0m\u001b[0;34m,\u001b[0m \u001b[0mmu_a_2\u001b[0m\u001b[0;34m,\u001b[0m \u001b[0mmu_s_2\u001b[0m\u001b[0;34m)\u001b[0m\u001b[0;34m)\u001b[0m\u001b[0;34m:\u001b[0m \u001b[0;31m# 8 wl\u001b[0m\u001b[0;34m\u001b[0m\u001b[0;34m\u001b[0m\u001b[0m\n\u001b[0;32m--> 139\u001b[0;31m         \u001b[0mTPSF_list\u001b[0m\u001b[0;34m,\u001b[0m \u001b[0munit\u001b[0m \u001b[0;34m=\u001b[0m \u001b[0mmcx_simulation\u001b[0m\u001b[0;34m(\u001b[0m\u001b[0mua1\u001b[0m\u001b[0;34m,\u001b[0m \u001b[0mus1\u001b[0m\u001b[0;34m,\u001b[0m \u001b[0mua2\u001b[0m\u001b[0;34m,\u001b[0m \u001b[0mus2\u001b[0m\u001b[0;34m,\u001b[0m \u001b[0ml1\u001b[0m\u001b[0;34m,\u001b[0m \u001b[0mg\u001b[0m\u001b[0;34m,\u001b[0m \u001b[0mn\u001b[0m\u001b[0;34m,\u001b[0m \u001b[0mdistance\u001b[0m\u001b[0;34m,\u001b[0m \u001b[0mtend\u001b[0m\u001b[0;34m,\u001b[0m \u001b[0mdevf\u001b[0m\u001b[0;34m,\u001b[0m \u001b[0mnphoton\u001b[0m\u001b[0;34m,\u001b[0m \u001b[0msource_type\u001b[0m\u001b[0;34m)\u001b[0m\u001b[0;34m\u001b[0m\u001b[0;34m\u001b[0m\u001b[0m\n\u001b[0m\u001b[1;32m    140\u001b[0m         \u001b[0;31m#[[x[0] * nphoton * tend ] for x in TPSF_list] # weight/mm2\u001b[0m\u001b[0;34m\u001b[0m\u001b[0;34m\u001b[0m\u001b[0m\n\u001b[1;32m    141\u001b[0m         \u001b[0;32mfor\u001b[0m \u001b[0mi\u001b[0m\u001b[0;34m,\u001b[0m \u001b[0md\u001b[0m \u001b[0;32min\u001b[0m \u001b[0menumerate\u001b[0m\u001b[0;34m(\u001b[0m\u001b[0mdistance\u001b[0m\u001b[0;34m)\u001b[0m\u001b[0;34m:\u001b[0m \u001b[0;31m# 4 distances\u001b[0m\u001b[0;34m\u001b[0m\u001b[0;34m\u001b[0m\u001b[0m\n",
            "\u001b[0;32m/content/drive/MyDrive/MCX_data/FD_msNIRS_2layers.py\u001b[0m in \u001b[0;36mmcx_simulation\u001b[0;34m(ua1, us1, ua2, us2, l1, g, n, distance, tend, devf, nphoton, source_type)\u001b[0m\n\u001b[1;32m    125\u001b[0m \u001b[0;34m\u001b[0m\u001b[0m\n\u001b[1;32m    126\u001b[0m \u001b[0;32mdef\u001b[0m \u001b[0mmcx_simulation\u001b[0m\u001b[0;34m(\u001b[0m\u001b[0mua1\u001b[0m\u001b[0;34m,\u001b[0m \u001b[0mus1\u001b[0m\u001b[0;34m,\u001b[0m \u001b[0mua2\u001b[0m\u001b[0;34m,\u001b[0m \u001b[0mus2\u001b[0m\u001b[0;34m,\u001b[0m \u001b[0ml1\u001b[0m\u001b[0;34m,\u001b[0m \u001b[0mg\u001b[0m \u001b[0;34m=\u001b[0m \u001b[0mg_default\u001b[0m\u001b[0;34m,\u001b[0m \u001b[0mn\u001b[0m \u001b[0;34m=\u001b[0m \u001b[0mn_default\u001b[0m\u001b[0;34m,\u001b[0m \u001b[0mdistance\u001b[0m \u001b[0;34m=\u001b[0m \u001b[0mdistance_default\u001b[0m\u001b[0;34m,\u001b[0m \u001b[0mtend\u001b[0m \u001b[0;34m=\u001b[0m\u001b[0;36m1e-08\u001b[0m\u001b[0;34m,\u001b[0m \u001b[0mdevf\u001b[0m \u001b[0;34m=\u001b[0m \u001b[0;36m10000\u001b[0m\u001b[0;34m,\u001b[0m \u001b[0mnphoton\u001b[0m \u001b[0;34m=\u001b[0m \u001b[0;36m1e8\u001b[0m\u001b[0;34m,\u001b[0m \u001b[0msource_type\u001b[0m \u001b[0;34m=\u001b[0m \u001b[0;34m'laser'\u001b[0m\u001b[0;34m)\u001b[0m\u001b[0;34m:\u001b[0m\u001b[0;34m\u001b[0m\u001b[0;34m\u001b[0m\u001b[0m\n\u001b[0;32m--> 127\u001b[0;31m     \u001b[0mres\u001b[0m\u001b[0;34m,\u001b[0m \u001b[0mcfg\u001b[0m \u001b[0;34m=\u001b[0m \u001b[0mrun_mcx\u001b[0m\u001b[0;34m(\u001b[0m\u001b[0mua1\u001b[0m\u001b[0;34m,\u001b[0m \u001b[0mus1\u001b[0m\u001b[0;34m,\u001b[0m \u001b[0mua2\u001b[0m\u001b[0;34m,\u001b[0m \u001b[0mus2\u001b[0m\u001b[0;34m,\u001b[0m \u001b[0ml1\u001b[0m\u001b[0;34m,\u001b[0m \u001b[0mg\u001b[0m\u001b[0;34m,\u001b[0m \u001b[0mn\u001b[0m\u001b[0;34m,\u001b[0m \u001b[0mdistance\u001b[0m\u001b[0;34m,\u001b[0m \u001b[0mtend\u001b[0m\u001b[0;34m,\u001b[0m \u001b[0mdevf\u001b[0m\u001b[0;34m,\u001b[0m \u001b[0mnphoton\u001b[0m\u001b[0;34m,\u001b[0m \u001b[0msource_type\u001b[0m\u001b[0;34m)\u001b[0m\u001b[0;34m\u001b[0m\u001b[0;34m\u001b[0m\u001b[0m\n\u001b[0m\u001b[1;32m    128\u001b[0m     \u001b[0mintensity_d_list\u001b[0m \u001b[0;34m=\u001b[0m \u001b[0mget_intensity_dynamic\u001b[0m\u001b[0;34m(\u001b[0m\u001b[0mcfg\u001b[0m\u001b[0;34m,\u001b[0m \u001b[0mres\u001b[0m\u001b[0;34m)\u001b[0m\u001b[0;34m\u001b[0m\u001b[0;34m\u001b[0m\u001b[0m\n\u001b[1;32m    129\u001b[0m     \u001b[0mt\u001b[0m \u001b[0;34m=\u001b[0m \u001b[0mnp\u001b[0m\u001b[0;34m.\u001b[0m\u001b[0mlinspace\u001b[0m\u001b[0;34m(\u001b[0m\u001b[0;36m0\u001b[0m\u001b[0;34m,\u001b[0m \u001b[0mtend\u001b[0m\u001b[0;34m,\u001b[0m \u001b[0mdevf\u001b[0m\u001b[0;34m)\u001b[0m\u001b[0;34m\u001b[0m\u001b[0;34m\u001b[0m\u001b[0m\n",
            "\u001b[0;32m/content/drive/MyDrive/MCX_data/FD_msNIRS_2layers.py\u001b[0m in \u001b[0;36mrun_mcx\u001b[0;34m(ua1, us1, ua2, us2, l1, g, n, distances, tend, devf, nphoton, source_type)\u001b[0m\n\u001b[1;32m     94\u001b[0m \u001b[0;34m\u001b[0m\u001b[0m\n\u001b[1;32m     95\u001b[0m     \u001b[0;31m# Run the simulation\u001b[0m\u001b[0;34m\u001b[0m\u001b[0;34m\u001b[0m\u001b[0m\n\u001b[0;32m---> 96\u001b[0;31m     \u001b[0mres\u001b[0m \u001b[0;34m=\u001b[0m \u001b[0mpmcx\u001b[0m\u001b[0;34m.\u001b[0m\u001b[0mmcxlab\u001b[0m\u001b[0;34m(\u001b[0m\u001b[0mcfg\u001b[0m\u001b[0;34m)\u001b[0m\u001b[0;34m\u001b[0m\u001b[0;34m\u001b[0m\u001b[0m\n\u001b[0m\u001b[1;32m     97\u001b[0m     \u001b[0;32mreturn\u001b[0m \u001b[0mres\u001b[0m\u001b[0;34m,\u001b[0m \u001b[0mcfg\u001b[0m\u001b[0;34m\u001b[0m\u001b[0;34m\u001b[0m\u001b[0m\n\u001b[1;32m     98\u001b[0m \u001b[0;34m\u001b[0m\u001b[0m\n",
            "\u001b[0;32m/usr/local/lib/python3.11/dist-packages/pmcx/utils.py\u001b[0m in \u001b[0;36mmcxlab\u001b[0;34m(*args)\u001b[0m\n\u001b[1;32m    574\u001b[0m \u001b[0;34m\u001b[0m\u001b[0m\n\u001b[1;32m    575\u001b[0m     \u001b[0;32mif\u001b[0m \u001b[0museopencl\u001b[0m \u001b[0;34m==\u001b[0m \u001b[0;36m0\u001b[0m\u001b[0;34m:\u001b[0m\u001b[0;34m\u001b[0m\u001b[0;34m\u001b[0m\u001b[0m\n\u001b[0;32m--> 576\u001b[0;31m         \u001b[0mvarargout\u001b[0m \u001b[0;34m=\u001b[0m \u001b[0mpmcx\u001b[0m\u001b[0;34m.\u001b[0m\u001b[0mrun\u001b[0m\u001b[0;34m(\u001b[0m\u001b[0margs\u001b[0m\u001b[0;34m[\u001b[0m\u001b[0;36m0\u001b[0m\u001b[0;34m]\u001b[0m\u001b[0;34m)\u001b[0m\u001b[0;34m\u001b[0m\u001b[0;34m\u001b[0m\u001b[0m\n\u001b[0m\u001b[1;32m    577\u001b[0m     \u001b[0;32melse\u001b[0m\u001b[0;34m:\u001b[0m\u001b[0;34m\u001b[0m\u001b[0;34m\u001b[0m\u001b[0m\n\u001b[1;32m    578\u001b[0m         \u001b[0;32mtry\u001b[0m\u001b[0;34m:\u001b[0m\u001b[0;34m\u001b[0m\u001b[0;34m\u001b[0m\u001b[0m\n",
            "\u001b[0;31mKeyboardInterrupt\u001b[0m: "
          ]
        }
      ]
    },
    {
      "cell_type": "code",
      "source": [],
      "metadata": {
        "id": "ZUVLRFbCLs4X"
      },
      "execution_count": null,
      "outputs": []
    },
    {
      "cell_type": "code",
      "source": [],
      "metadata": {
        "id": "AfPquk7pXzkX"
      },
      "execution_count": null,
      "outputs": []
    },
    {
      "cell_type": "code",
      "source": [],
      "metadata": {
        "id": "DptFVMwcLtHq"
      },
      "execution_count": null,
      "outputs": []
    },
    {
      "cell_type": "code",
      "source": [],
      "metadata": {
        "id": "3A7uEmFiLtKk"
      },
      "execution_count": null,
      "outputs": []
    },
    {
      "cell_type": "code",
      "source": [],
      "metadata": {
        "id": "kFtnj9uCLtNH"
      },
      "execution_count": null,
      "outputs": []
    },
    {
      "cell_type": "code",
      "source": [],
      "metadata": {
        "id": "vsWWHKKvNhQk"
      },
      "execution_count": null,
      "outputs": []
    },
    {
      "cell_type": "code",
      "source": [],
      "metadata": {
        "id": "SOsqn_QXNhV9"
      },
      "execution_count": null,
      "outputs": []
    },
    {
      "cell_type": "code",
      "source": [],
      "metadata": {
        "id": "4kFTEPyMQFxr"
      },
      "execution_count": null,
      "outputs": []
    },
    {
      "cell_type": "code",
      "source": [],
      "metadata": {
        "id": "uPv-MGnTQF0D"
      },
      "execution_count": null,
      "outputs": []
    },
    {
      "cell_type": "code",
      "source": [],
      "metadata": {
        "id": "NPFfenAXQF2q"
      },
      "execution_count": null,
      "outputs": []
    },
    {
      "cell_type": "code",
      "source": [],
      "metadata": {
        "id": "fdAO2ySqQF5S"
      },
      "execution_count": null,
      "outputs": []
    },
    {
      "cell_type": "code",
      "source": [],
      "metadata": {
        "id": "sDFTIamZQF8a"
      },
      "execution_count": null,
      "outputs": []
    },
    {
      "cell_type": "code",
      "source": [],
      "metadata": {
        "id": "yzoc0vuOQF_a"
      },
      "execution_count": null,
      "outputs": []
    },
    {
      "cell_type": "code",
      "source": [],
      "metadata": {
        "id": "FFWWAE23QGBt"
      },
      "execution_count": null,
      "outputs": []
    },
    {
      "cell_type": "code",
      "source": [],
      "metadata": {
        "id": "WkJu-quYVdiN"
      },
      "execution_count": null,
      "outputs": []
    },
    {
      "cell_type": "code",
      "source": [],
      "metadata": {
        "id": "oQakSQXkBXQ8"
      },
      "execution_count": null,
      "outputs": []
    }
  ]
}