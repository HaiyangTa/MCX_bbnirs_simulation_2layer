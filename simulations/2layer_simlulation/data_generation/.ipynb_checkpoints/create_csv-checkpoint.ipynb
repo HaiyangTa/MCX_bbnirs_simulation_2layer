{
 "cells": [
  {
   "cell_type": "markdown",
   "id": "088326ce-951b-49f9-b701-692f2912116f",
   "metadata": {},
   "source": [
    "## Create Combinations"
   ]
  },
  {
   "cell_type": "code",
   "execution_count": 39,
   "id": "9a97556c-0db6-426d-8c9f-0ab06bd85576",
   "metadata": {},
   "outputs": [
    {
     "name": "stdout",
     "output_type": "stream",
     "text": [
      "CSV file with combinations saved as 'combinations.csv'.\n"
     ]
    }
   ],
   "source": [
    "import itertools\n",
    "import pandas as pd\n",
    "\n",
    "# Define the values\n",
    "HBO1 = [5, 6.5, 8, 9.5, 11, 12.5, 14, 15.5, 17, 18.5, 20]\n",
    "HHB1 = [2.5, 3.5, 4.5, 5.5, 6.5, 7.5, 8.5, 9.5, 10.5, 11.5, 12.5]\n",
    "HBO2 = [25, 28, 31, 34, 37, 40, 43, 46, 49, 52, 55]\n",
    "HHB2 = [15, 17, 19, 21, 23, 25, 27, 29, 31, 33, 35]\n",
    "Thickness = [10, 12, 14, 16, 18, 20]\n",
    "\n",
    "# Generate all combinations\n",
    "combinations = itertools.product(HBO1, HHB1, HBO2, HHB2, Thickness)\n",
    "\n",
    "# Create DataFrame\n",
    "df = pd.DataFrame(combinations, columns=[\"HBO1\", \"HHB1\", \"HBO2\", \"HHB2\", \"Thickness\"])\n",
    "\n",
    "# Add 'ID' column starting from 1\n",
    "df.insert(0, \"ID\", range(1, len(df) + 1))\n",
    "\n",
    "# Add 'complete' column initialized to False\n",
    "df[\"complete\"] = False\n",
    "\n",
    "# Save to CSV\n",
    "df.to_csv(\"combinations.csv\", index=False)\n",
    "\n",
    "print(\"CSV file with combinations saved as 'combinations.csv'.\")\n"
   ]
  },
  {
   "cell_type": "code",
   "execution_count": 41,
   "id": "e3284ff5-c555-4a04-b1c0-7328d6269d82",
   "metadata": {},
   "outputs": [],
   "source": [
    "size = len(df)"
   ]
  },
  {
   "cell_type": "code",
   "execution_count": 43,
   "id": "85ecda3a-8a52-4241-92e1-3dd626d418f8",
   "metadata": {},
   "outputs": [
    {
     "name": "stdout",
     "output_type": "stream",
     "text": [
      "Done: 8 files created in 'split_files/'.\n"
     ]
    }
   ],
   "source": [
    "import pandas as pd\n",
    "import os\n",
    "\n",
    "# Load the full CSV\n",
    "df = pd.read_csv(\"combinations.csv\")\n",
    "\n",
    "# Parameters\n",
    "total_rows = len(df)\n",
    "num_parts = 8\n",
    "rows_per_file = total_rows // num_parts\n",
    "remainder = total_rows % num_parts\n",
    "\n",
    "# Create output folder\n",
    "output_dir = \"split_files\"\n",
    "os.makedirs(output_dir, exist_ok=True)\n",
    "\n",
    "start = 0\n",
    "for i in range(num_parts):\n",
    "    # Distribute the remainder across the first 'remainder' files\n",
    "    extra = 1 if i < remainder else 0\n",
    "    end = start + rows_per_file + extra\n",
    "    part_df = df.iloc[start:end]\n",
    "    part_df.to_csv(f\"{output_dir}/parameter_combinations_part_{i+1}.csv\", index=False)\n",
    "    start = end\n",
    "\n",
    "print(f\"Done: 8 files created in '{output_dir}/'.\")\n"
   ]
  },
  {
   "cell_type": "code",
   "execution_count": 45,
   "id": "9063390a-7cf7-4f22-b394-02aaf727da03",
   "metadata": {},
   "outputs": [
    {
     "name": "stdout",
     "output_type": "stream",
     "text": [
      "File 1: 10981 rows\n",
      "File 2: 10981 rows\n",
      "File 3: 10981 rows\n",
      "File 4: 10981 rows\n",
      "File 5: 10981 rows\n",
      "File 6: 10981 rows\n",
      "File 7: 10980 rows\n",
      "File 8: 10980 rows\n",
      "\n",
      "Total rows across all files: 87846\n",
      "Row count is correct: 87,846 rows.\n"
     ]
    }
   ],
   "source": [
    "import pandas as pd\n",
    "import os\n",
    "\n",
    "# Path to folder containing split files\n",
    "folder = \"split_files\"\n",
    "\n",
    "# Track total rows\n",
    "total_rows = 0\n",
    "\n",
    "# Loop through all 8 parts\n",
    "for i in range(1, 9):\n",
    "    file_path = os.path.join(folder, f\"parameter_combinations_part_{i}.csv\")\n",
    "    df = pd.read_csv(file_path)\n",
    "    row_count = len(df)\n",
    "    total_rows += row_count\n",
    "    print(f\"File {i}: {row_count} rows\")\n",
    "\n",
    "print(f\"\\nTotal rows across all files: {total_rows}\")\n",
    "assert total_rows == size, \"Row count mismatch!\"\n",
    "print(\"Row count is correct: 87,846 rows.\")"
   ]
  },
  {
   "cell_type": "code",
   "execution_count": null,
   "id": "f5563ff4-4c4a-46cc-a4e7-fa09dbdfe5cf",
   "metadata": {},
   "outputs": [],
   "source": []
  }
 ],
 "metadata": {
  "kernelspec": {
   "display_name": "Python [conda env:base] *",
   "language": "python",
   "name": "conda-base-py"
  },
  "language_info": {
   "codemirror_mode": {
    "name": "ipython",
    "version": 3
   },
   "file_extension": ".py",
   "mimetype": "text/x-python",
   "name": "python",
   "nbconvert_exporter": "python",
   "pygments_lexer": "ipython3",
   "version": "3.12.3"
  }
 },
 "nbformat": 4,
 "nbformat_minor": 5
}
