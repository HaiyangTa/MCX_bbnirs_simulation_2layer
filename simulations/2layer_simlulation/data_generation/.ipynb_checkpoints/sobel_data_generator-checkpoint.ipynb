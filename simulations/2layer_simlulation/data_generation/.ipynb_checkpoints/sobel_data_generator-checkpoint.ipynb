{
 "cells": [
  {
   "cell_type": "code",
   "execution_count": 1,
   "metadata": {
    "colab": {
     "base_uri": "https://localhost:8080/"
    },
    "id": "j2y9g-FrLWmt",
    "outputId": "5551e4ca-37d0-4976-aba7-5b760d1730ac"
   },
   "outputs": [
    {
     "name": "stdout",
     "output_type": "stream",
     "text": [
      "Collecting scikit-optimize\n",
      "  Downloading scikit_optimize-0.10.2-py2.py3-none-any.whl.metadata (9.7 kB)\n",
      "Requirement already satisfied: joblib>=0.11 in c:\\users\\haiya\\anaconda3\\lib\\site-packages (from scikit-optimize) (1.4.2)\n",
      "Collecting pyaml>=16.9 (from scikit-optimize)\n",
      "  Downloading pyaml-25.5.0-py3-none-any.whl.metadata (12 kB)\n",
      "Requirement already satisfied: numpy>=1.20.3 in c:\\users\\haiya\\anaconda3\\lib\\site-packages (from scikit-optimize) (1.26.4)\n",
      "Requirement already satisfied: scipy>=1.1.0 in c:\\users\\haiya\\anaconda3\\lib\\site-packages (from scikit-optimize) (1.13.1)\n",
      "Requirement already satisfied: scikit-learn>=1.0.0 in c:\\users\\haiya\\anaconda3\\lib\\site-packages (from scikit-optimize) (1.5.1)\n",
      "Requirement already satisfied: packaging>=21.3 in c:\\users\\haiya\\anaconda3\\lib\\site-packages (from scikit-optimize) (24.1)\n",
      "Requirement already satisfied: PyYAML in c:\\users\\haiya\\anaconda3\\lib\\site-packages (from pyaml>=16.9->scikit-optimize) (6.0.1)\n",
      "Requirement already satisfied: threadpoolctl>=3.1.0 in c:\\users\\haiya\\anaconda3\\lib\\site-packages (from scikit-learn>=1.0.0->scikit-optimize) (3.5.0)\n",
      "Downloading scikit_optimize-0.10.2-py2.py3-none-any.whl (107 kB)\n",
      "Downloading pyaml-25.5.0-py3-none-any.whl (26 kB)\n",
      "Installing collected packages: pyaml, scikit-optimize\n",
      "Successfully installed pyaml-25.5.0 scikit-optimize-0.10.2\n"
     ]
    }
   ],
   "source": [
    "! pip install scikit-optimize\n",
    "import numpy as np\n",
    "import pandas as pd\n",
    "from skopt.sampler import Sobol\n",
    "from skopt.space import Real"
   ]
  },
  {
   "cell_type": "code",
   "execution_count": 4,
   "metadata": {
    "colab": {
     "base_uri": "https://localhost:8080/"
    },
    "id": "0CF7KmfGLdFa",
    "outputId": "a3f720f6-d124-4578-e084-87ced635241a"
   },
   "outputs": [
    {
     "name": "stdout",
     "output_type": "stream",
     "text": [
      "        HBO1       HHB1       HBO2      HHB2    d1        a1        a2  \\\n",
      "0  10.618102  12.007143  46.959818  26.97317  12.0  0.889986  0.645209   \n",
      "1  18.118102   7.007143  31.959818  16.97317  17.0  2.139986  1.895209   \n",
      "2   6.868102   4.507143  39.459818  31.97317  19.0  1.514986  2.520209   \n",
      "3  14.368102   9.507143  54.459818  21.97317  14.0  2.764986  1.270209   \n",
      "4  16.243102   5.757143  35.709818  29.47317  10.0  0.577486  0.957709   \n",
      "\n",
      "         b1        b2  \n",
      "0  1.799264  1.401673  \n",
      "1  1.049264  0.651673  \n",
      "2  0.674264  1.776673  \n",
      "3  1.424264  1.026673  \n",
      "4  1.236764  1.589173  \n"
     ]
    },
    {
     "name": "stderr",
     "output_type": "stream",
     "text": [
      "C:\\Users\\Haiya\\anaconda3\\Lib\\site-packages\\skopt\\sampler\\sobol.py:521: UserWarning: The balance properties of Sobol' points require n to be a power of 2. 0 points have been previously generated, then: n=0+2000=2000. \n",
      "  warnings.warn(\n"
     ]
    }
   ],
   "source": [
    "# Set number of samples and seed\n",
    "n_samples = 2000\n",
    "np.random.seed(42)\n",
    "\n",
    "# Define parameter space\n",
    "space = [\n",
    "    Real(5, 20, name='HBO1'),\n",
    "    Real(2.5, 12.5, name='HHB1'),\n",
    "    Real(25, 55, name='HBO2'),\n",
    "    Real(15, 35, name='HHB2'),\n",
    "    Real(10, 20, name='d1'),\n",
    "    Real(0.5, 3.0, name='a1'),\n",
    "    Real(0.5, 3.0, name='a2'),\n",
    "    Real(0.5, 2.0, name='b1'),\n",
    "    Real(0.5, 2.0, name='b2'),\n",
    "]\n",
    "\n",
    "# Initialize Sobol sampler\n",
    "sobol = Sobol()\n",
    "\n",
    "# Generate samples\n",
    "samples = sobol.generate(space, n_samples)\n",
    "\n",
    "# Convert to DataFrame\n",
    "df_sobol = pd.DataFrame(samples, columns=[dim.name for dim in space])\n",
    "df_sobol['d1'] = df_sobol['d1'].round(0)\n",
    "\n",
    "# Preview\n",
    "print(df_sobol.head())\n",
    "\n",
    "# Export to CSV\n",
    "df_sobol.to_csv(\"sobol_samples.csv\", index=False)"
   ]
  },
  {
   "cell_type": "code",
   "execution_count": null,
   "metadata": {},
   "outputs": [],
   "source": []
  }
 ],
 "metadata": {
  "colab": {
   "provenance": []
  },
  "kernelspec": {
   "display_name": "Python [conda env:base] *",
   "language": "python",
   "name": "conda-base-py"
  },
  "language_info": {
   "codemirror_mode": {
    "name": "ipython",
    "version": 3
   },
   "file_extension": ".py",
   "mimetype": "text/x-python",
   "name": "python",
   "nbconvert_exporter": "python",
   "pygments_lexer": "ipython3",
   "version": "3.12.3"
  }
 },
 "nbformat": 4,
 "nbformat_minor": 4
}
