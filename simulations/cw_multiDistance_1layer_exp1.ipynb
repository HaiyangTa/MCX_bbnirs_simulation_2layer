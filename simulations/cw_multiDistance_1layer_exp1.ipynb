{
  "nbformat": 4,
  "nbformat_minor": 0,
  "metadata": {
    "colab": {
      "provenance": [],
      "machine_shape": "hm",
      "gpuType": "A100"
    },
    "kernelspec": {
      "name": "python3",
      "display_name": "Python 3"
    },
    "language_info": {
      "name": "python"
    },
    "accelerator": "GPU"
  },
  "cells": [
    {
      "cell_type": "markdown",
      "source": [
        "## CW generation.\n"
      ],
      "metadata": {
        "id": "Rv03tAEfZgOW"
      }
    },
    {
      "cell_type": "code",
      "source": [
        "! pip install pmcx\n",
        "! pip install numpy pmcx jdata bjdata matplotlib"
      ],
      "metadata": {
        "colab": {
          "base_uri": "https://localhost:8080/"
        },
        "id": "J1uXmyfNZYRG",
        "outputId": "1b3a17b8-3025-4551-8528-dc99acc10739"
      },
      "execution_count": null,
      "outputs": [
        {
          "output_type": "stream",
          "name": "stdout",
          "text": [
            "Collecting pmcx\n",
            "  Downloading pmcx-0.4.2-cp311-cp311-manylinux2014_x86_64.manylinux_2_17_x86_64.whl.metadata (10 kB)\n",
            "Downloading pmcx-0.4.2-cp311-cp311-manylinux2014_x86_64.manylinux_2_17_x86_64.whl (4.9 MB)\n",
            "\u001b[2K   \u001b[90m━━━━━━━━━━━━━━━━━━━━━━━━━━━━━━━━━━━━━━━━\u001b[0m \u001b[32m4.9/4.9 MB\u001b[0m \u001b[31m44.4 MB/s\u001b[0m eta \u001b[36m0:00:00\u001b[0m\n",
            "\u001b[?25hInstalling collected packages: pmcx\n",
            "Successfully installed pmcx-0.4.2\n",
            "Requirement already satisfied: numpy in /usr/local/lib/python3.11/dist-packages (2.0.2)\n",
            "Requirement already satisfied: pmcx in /usr/local/lib/python3.11/dist-packages (0.4.2)\n",
            "Collecting jdata\n",
            "  Downloading jdata-0.6.0-py2.py3-none-any.whl.metadata (12 kB)\n",
            "Collecting bjdata\n",
            "  Downloading bjdata-0.4.1.tar.gz (65 kB)\n",
            "\u001b[2K     \u001b[90m━━━━━━━━━━━━━━━━━━━━━━━━━━━━━━━━━━━━━━━━\u001b[0m \u001b[32m65.0/65.0 kB\u001b[0m \u001b[31m3.0 MB/s\u001b[0m eta \u001b[36m0:00:00\u001b[0m\n",
            "\u001b[?25h  Installing build dependencies ... \u001b[?25l\u001b[?25hdone\n",
            "  Getting requirements to build wheel ... \u001b[?25l\u001b[?25hdone\n",
            "  Preparing metadata (pyproject.toml) ... \u001b[?25l\u001b[?25hdone\n",
            "Requirement already satisfied: matplotlib in /usr/local/lib/python3.11/dist-packages (3.10.0)\n",
            "Requirement already satisfied: contourpy>=1.0.1 in /usr/local/lib/python3.11/dist-packages (from matplotlib) (1.3.2)\n",
            "Requirement already satisfied: cycler>=0.10 in /usr/local/lib/python3.11/dist-packages (from matplotlib) (0.12.1)\n",
            "Requirement already satisfied: fonttools>=4.22.0 in /usr/local/lib/python3.11/dist-packages (from matplotlib) (4.58.1)\n",
            "Requirement already satisfied: kiwisolver>=1.3.1 in /usr/local/lib/python3.11/dist-packages (from matplotlib) (1.4.8)\n",
            "Requirement already satisfied: packaging>=20.0 in /usr/local/lib/python3.11/dist-packages (from matplotlib) (24.2)\n",
            "Requirement already satisfied: pillow>=8 in /usr/local/lib/python3.11/dist-packages (from matplotlib) (11.2.1)\n",
            "Requirement already satisfied: pyparsing>=2.3.1 in /usr/local/lib/python3.11/dist-packages (from matplotlib) (3.2.3)\n",
            "Requirement already satisfied: python-dateutil>=2.7 in /usr/local/lib/python3.11/dist-packages (from matplotlib) (2.9.0.post0)\n",
            "Requirement already satisfied: six>=1.5 in /usr/local/lib/python3.11/dist-packages (from python-dateutil>=2.7->matplotlib) (1.17.0)\n",
            "Downloading jdata-0.6.0-py2.py3-none-any.whl (20 kB)\n",
            "Building wheels for collected packages: bjdata\n",
            "  Building wheel for bjdata (pyproject.toml) ... \u001b[?25l\u001b[?25hdone\n",
            "  Created wheel for bjdata: filename=bjdata-0.4.1-cp311-cp311-linux_x86_64.whl size=22196 sha256=03e5927be451b0d412b00098fd2229f336781ff3b91bc1515a921f00cf5017d6\n",
            "  Stored in directory: /root/.cache/pip/wheels/e4/d5/4a/8d5ccb70c0eb1f07a10da8548e50b7fc0cbdfd014f5eaa45c3\n",
            "Successfully built bjdata\n",
            "Installing collected packages: jdata, bjdata\n",
            "Successfully installed bjdata-0.4.1 jdata-0.6.0\n"
          ]
        }
      ]
    },
    {
      "cell_type": "code",
      "source": [
        "from google.colab import drive\n",
        "drive.mount('/content/drive')\n",
        "import sys\n",
        "import os\n",
        "import pmcx\n",
        "import numpy as np\n",
        "import pandas as pd\n",
        "import matplotlib.pyplot as plt\n",
        "from mpl_toolkits.mplot3d import Axes3D\n",
        "import pickle\n",
        "import math\n",
        "import io"
      ],
      "metadata": {
        "colab": {
          "base_uri": "https://localhost:8080/"
        },
        "id": "mjcPrAgZlPCA",
        "outputId": "4d7b4bf2-bef9-4622-e2eb-d34e67e4851c"
      },
      "execution_count": null,
      "outputs": [
        {
          "output_type": "stream",
          "name": "stdout",
          "text": [
            "Mounted at /content/drive\n"
          ]
        }
      ]
    },
    {
      "cell_type": "code",
      "source": [
        "# Path to your folder containing the .py script\n",
        "folder_path = '/content/drive/MyDrive/MCX_data'\n",
        "\n",
        "# Add to sys.path so you can import the script\n",
        "if folder_path not in sys.path:\n",
        "    sys.path.append(folder_path)\n",
        "from FD_msNIRS import mcx_simulation as ms\n",
        "from FD_msNIRS import extract_freq as ef"
      ],
      "metadata": {
        "id": "owMszfM_lea7"
      },
      "execution_count": null,
      "outputs": []
    },
    {
      "cell_type": "code",
      "source": [
        "!ls '/content/drive/MyDrive/MCX_data'"
      ],
      "metadata": {
        "colab": {
          "base_uri": "https://localhost:8080/"
        },
        "id": "mhH6EdODqEXp",
        "outputId": "4f4523c8-b3c0-441a-e317-4623e6a8d898"
      },
      "execution_count": null,
      "outputs": [
        {
          "output_type": "stream",
          "name": "stdout",
          "text": [
            "2_L_30_mu_as_df.csv\t       EC.xlsx\t     __pycache__\n",
            "2_L_30_mu_s_primes_df.csv.csv  FD_msNIRS.py\n"
          ]
        }
      ]
    },
    {
      "cell_type": "code",
      "source": [
        "pmcx.gpuinfo()"
      ],
      "metadata": {
        "colab": {
          "base_uri": "https://localhost:8080/"
        },
        "id": "Tz4Ic-rtml_4",
        "outputId": "758a3a46-ddca-451f-b641-61f8a22a30c6"
      },
      "execution_count": null,
      "outputs": [
        {
          "output_type": "execute_result",
          "data": {
            "text/plain": [
              "[{'name': 'NVIDIA A100-SXM4-40GB',\n",
              "  'id': 1,\n",
              "  'devcount': 1,\n",
              "  'major': 8,\n",
              "  'minor': 0,\n",
              "  'globalmem': 42474471424,\n",
              "  'constmem': 65536,\n",
              "  'sharedmem': 49152,\n",
              "  'regcount': 65536,\n",
              "  'clock': 1410000,\n",
              "  'sm': 108,\n",
              "  'core': 6912,\n",
              "  'autoblock': 64,\n",
              "  'autothread': 442368,\n",
              "  'maxgate': 0}]"
            ]
          },
          "metadata": {},
          "execution_count": 5
        }
      ]
    },
    {
      "cell_type": "code",
      "source": [],
      "metadata": {
        "id": "h4vFRETMOr58"
      },
      "execution_count": null,
      "outputs": []
    },
    {
      "cell_type": "markdown",
      "source": [
        "### concentration -> Ua and Us"
      ],
      "metadata": {
        "id": "FMkLvfw-Osvy"
      }
    },
    {
      "cell_type": "markdown",
      "source": [
        "### Ua"
      ],
      "metadata": {
        "id": "6Dap1JlcQ7Nu"
      }
    },
    {
      "cell_type": "code",
      "source": [
        "HbO2_mean = 60  # microMolar\n",
        "Hb_mean = 25    # microMolar\n",
        "CCO_mean = 8.5    # microMolar\n",
        "concentrations_true = np.array([HbO2_mean, Hb_mean, CCO_mean])\n",
        "C_true = concentrations_true / 1e6"
      ],
      "metadata": {
        "id": "8O3c__svQncQ"
      },
      "execution_count": null,
      "outputs": []
    },
    {
      "cell_type": "code",
      "source": [
        "lambdas = [784, 800, 818, 835, 851, 868, 881, 894]"
      ],
      "metadata": {
        "id": "dCfjHYQAPleQ"
      },
      "execution_count": null,
      "outputs": []
    },
    {
      "cell_type": "code",
      "source": [
        "extinction_coeffs = pd.read_excel(folder_path + \"/EC.xlsx\")\n",
        "extinction_coeffs_filtered = extinction_coeffs[extinction_coeffs['Lambda'].isin(lambdas)]"
      ],
      "metadata": {
        "id": "594TgVHZPlgn"
      },
      "execution_count": null,
      "outputs": []
    },
    {
      "cell_type": "code",
      "source": [
        "E3 = extinction_coeffs_filtered[['HbO2', 'Hb','CCO']].values\n",
        "E3 = E3 * math.log(10)\n",
        "E3.shape"
      ],
      "metadata": {
        "colab": {
          "base_uri": "https://localhost:8080/"
        },
        "id": "_4R00G2DPli_",
        "outputId": "32406303-ce66-40ae-93c6-b2937050870d"
      },
      "execution_count": null,
      "outputs": [
        {
          "output_type": "execute_result",
          "data": {
            "text/plain": [
              "(8, 3)"
            ]
          },
          "metadata": {},
          "execution_count": 9
        }
      ]
    },
    {
      "cell_type": "code",
      "source": [
        "mu_a = np.dot(C_true, E3.T)"
      ],
      "metadata": {
        "id": "4Ah0vatiPllj"
      },
      "execution_count": null,
      "outputs": []
    },
    {
      "cell_type": "code",
      "source": [
        "mu_a"
      ],
      "metadata": {
        "colab": {
          "base_uri": "https://localhost:8080/"
        },
        "id": "evrnot4gPln_",
        "outputId": "f510d8f2-c1fe-438d-9ece-138e86fce160"
      },
      "execution_count": null,
      "outputs": [
        {
          "output_type": "execute_result",
          "data": {
            "text/plain": [
              "array([0.20474467, 0.21210724, 0.22618976, 0.2393086 , 0.25090614,\n",
              "       0.26090535, 0.26660143, 0.27055057])"
            ]
          },
          "metadata": {},
          "execution_count": 11
        }
      ]
    },
    {
      "cell_type": "markdown",
      "source": [
        "### Us"
      ],
      "metadata": {
        "id": "ZzlJsL64Q9ON"
      }
    },
    {
      "cell_type": "code",
      "source": [
        "a = 22\n",
        "b = 1.2\n",
        "mu_s_prime = np.array([a * (wavelength / 500) ** (-b) for wavelength in lambdas])"
      ],
      "metadata": {
        "id": "240dQ0ZMOr-w"
      },
      "execution_count": null,
      "outputs": []
    },
    {
      "cell_type": "code",
      "source": [
        "mu_s_prime"
      ],
      "metadata": {
        "colab": {
          "base_uri": "https://localhost:8080/"
        },
        "id": "zx9ajkBNRDOe",
        "outputId": "b24c23e7-88c1-4442-9516-227ea3c995a7"
      },
      "execution_count": null,
      "outputs": [
        {
          "output_type": "execute_result",
          "data": {
            "text/plain": [
              "array([12.82352465, 12.5163789 , 12.18660463, 11.8894815 , 11.62174157,\n",
              "       11.34914163, 11.14847838, 10.95422516])"
            ]
          },
          "metadata": {},
          "execution_count": 13
        }
      ]
    },
    {
      "cell_type": "code",
      "source": [],
      "metadata": {
        "id": "_b0X_EOjRDTQ"
      },
      "execution_count": null,
      "outputs": []
    },
    {
      "cell_type": "markdown",
      "source": [
        "### MCX Simulation using packgae"
      ],
      "metadata": {
        "id": "0szCZfKgFWya"
      }
    },
    {
      "cell_type": "code",
      "source": [
        "g=0.85\n",
        "distance = [2, 2.5, 3.0 ,3.5]\n",
        "distance_mm = [d * 10 for d in distance]  # mm\n",
        "distance_data = {d: [] for d in distance_mm}\n",
        "t_end = 5e-07\n",
        "n_photon = 5e7\n",
        "\n",
        "for sim_idx, (ua_row, us_p_row) in enumerate(zip(mu_a, mu_s_prime)):\n",
        "    us = us_p_row / (1 - g)\n",
        "    ua_mm = ua_row / 10\n",
        "    us_mm = us / 10\n",
        "    print('ua_mm = ', ua_mm)\n",
        "    print('us_mm = ', us_mm)\n",
        "    print(f\"\\n--- Simulation {sim_idx + 1} ---\")\n",
        "\n",
        "    # -------- Simulation for Multi-Distances --------------\n",
        "    TPSF_list, time_unit = ms(ua_mm, us_mm, g=0.85, n=1.370, distance=distance_mm, tend=t_end, devf=1, nphoton=n_photon)\n",
        "    [[x[0] * n_photon * t_end ] for x in TPSF_list] # weight/mm2\n",
        "    for i, d in enumerate(distance_mm):\n",
        "        distance_data[d].append(TPSF_list[i][0])"
      ],
      "metadata": {
        "colab": {
          "base_uri": "https://localhost:8080/"
        },
        "id": "2Qu5DDqUqVbq",
        "outputId": "063889b9-1f00-40c3-b731-43127372a802"
      },
      "execution_count": null,
      "outputs": [
        {
          "output_type": "stream",
          "name": "stdout",
          "text": [
            "ua_mm =  0.02047446691247822\n",
            "us_mm =  8.549016430272166\n",
            "\n",
            "--- Simulation 1 ---\n",
            "nphoton: 5e+07\n",
            "tstart: 0\n",
            "tstep: 5e-07\n",
            "tend: 5e-07\n",
            "maxdetphoton: 5e+07\n",
            "issrcfrom0: 1\n",
            "autopilot: 1\n",
            "unitinmm: 1\n",
            "issaveref: 1\n",
            "issavedet: 1\n",
            "ua_mm =  0.0212107242524258\n",
            "us_mm =  8.344252597202866\n",
            "\n",
            "--- Simulation 2 ---\n",
            "nphoton: 5e+07\n",
            "tstart: 0\n",
            "tstep: 5e-07\n",
            "tend: 5e-07\n",
            "maxdetphoton: 5e+07\n",
            "issrcfrom0: 1\n",
            "autopilot: 1\n",
            "unitinmm: 1\n",
            "issaveref: 1\n",
            "issavedet: 1\n",
            "ua_mm =  0.022618976084960586\n",
            "us_mm =  8.124403088071144\n",
            "\n",
            "--- Simulation 3 ---\n",
            "nphoton: 5e+07\n",
            "tstart: 0\n",
            "tstep: 5e-07\n",
            "tend: 5e-07\n",
            "maxdetphoton: 5e+07\n",
            "issrcfrom0: 1\n",
            "autopilot: 1\n",
            "unitinmm: 1\n",
            "issaveref: 1\n",
            "issavedet: 1\n",
            "ua_mm =  0.02393086012618339\n",
            "us_mm =  7.9263209997313\n",
            "\n",
            "--- Simulation 4 ---\n",
            "nphoton: 5e+07\n",
            "tstart: 0\n",
            "tstep: 5e-07\n",
            "tend: 5e-07\n",
            "maxdetphoton: 5e+07\n",
            "issrcfrom0: 1\n",
            "autopilot: 1\n",
            "unitinmm: 1\n",
            "issaveref: 1\n",
            "issavedet: 1\n",
            "ua_mm =  0.025090613521604615\n",
            "us_mm =  7.7478277136993485\n",
            "\n",
            "--- Simulation 5 ---\n",
            "nphoton: 5e+07\n",
            "tstart: 0\n",
            "tstep: 5e-07\n",
            "tend: 5e-07\n",
            "maxdetphoton: 5e+07\n",
            "issrcfrom0: 1\n",
            "autopilot: 1\n",
            "unitinmm: 1\n",
            "issaveref: 1\n",
            "issavedet: 1\n",
            "ua_mm =  0.026090535275380754\n",
            "us_mm =  7.566094420891123\n",
            "\n",
            "--- Simulation 6 ---\n",
            "nphoton: 5e+07\n",
            "tstart: 0\n",
            "tstep: 5e-07\n",
            "tend: 5e-07\n",
            "maxdetphoton: 5e+07\n",
            "issrcfrom0: 1\n",
            "autopilot: 1\n",
            "unitinmm: 1\n",
            "issaveref: 1\n",
            "issavedet: 1\n",
            "ua_mm =  0.02666014301922289\n",
            "us_mm =  7.432318919327111\n",
            "\n",
            "--- Simulation 7 ---\n",
            "nphoton: 5e+07\n",
            "tstart: 0\n",
            "tstep: 5e-07\n",
            "tend: 5e-07\n",
            "maxdetphoton: 5e+07\n",
            "issrcfrom0: 1\n",
            "autopilot: 1\n",
            "unitinmm: 1\n",
            "issaveref: 1\n",
            "issavedet: 1\n",
            "ua_mm =  0.027055057085937213\n",
            "us_mm =  7.302816773757388\n",
            "\n",
            "--- Simulation 8 ---\n",
            "nphoton: 5e+07\n",
            "tstart: 0\n",
            "tstep: 5e-07\n",
            "tend: 5e-07\n",
            "maxdetphoton: 5e+07\n",
            "issrcfrom0: 1\n",
            "autopilot: 1\n",
            "unitinmm: 1\n",
            "issaveref: 1\n",
            "issavedet: 1\n"
          ]
        }
      ]
    },
    {
      "cell_type": "code",
      "source": [
        "fig, axs = plt.subplots(2, 2, figsize=(14, 8))\n",
        "axs = axs.flatten()\n",
        "\n",
        "for idx, (distance, values) in enumerate(distance_data.items()):\n",
        "    axs[idx].plot(lambdas, values, marker='o')\n",
        "    axs[idx].set_title(f'Distance = {distance} mm')\n",
        "    axs[idx].set_xlabel('Wavelength (nm)')\n",
        "    axs[idx].set_ylabel('CW Value')\n",
        "    axs[idx].grid(True)\n",
        "\n",
        "plt.tight_layout()\n",
        "plt.show()"
      ],
      "metadata": {
        "colab": {
          "base_uri": "https://localhost:8080/",
          "height": 719
        },
        "id": "QvQ2crA_W22B",
        "outputId": "ba08a5ff-3222-4232-b349-0801ef8a7ad4"
      },
      "execution_count": null,
      "outputs": [
        {
          "output_type": "display_data",
          "data": {
            "text/plain": [
              "<Figure size 1400x800 with 4 Axes>"
            ],
            "image/png": "[encoded data removed]"
          },
          "metadata": {}
        }
      ]
    },
    {
      "cell_type": "code",
      "source": [],
      "metadata": {
        "id": "UX8XpsijW24n"
      },
      "execution_count": null,
      "outputs": []
    },
    {
      "cell_type": "code",
      "source": [],
      "metadata": {
        "id": "aIWZGxSn4075"
      },
      "execution_count": null,
      "outputs": []
    },
    {
      "cell_type": "code",
      "source": [],
      "metadata": {
        "id": "nwxut5ys4099"
      },
      "execution_count": null,
      "outputs": []
    },
    {
      "cell_type": "code",
      "source": [],
      "metadata": {
        "id": "Kp8gl1uq41Bc"
      },
      "execution_count": null,
      "outputs": []
    },
    {
      "cell_type": "code",
      "source": [],
      "metadata": {
        "id": "sfD3TX6qW267"
      },
      "execution_count": null,
      "outputs": []
    },
    {
      "cell_type": "code",
      "source": [],
      "metadata": {
        "id": "UwPkA5yJmfbu"
      },
      "execution_count": null,
      "outputs": []
    },
    {
      "cell_type": "code",
      "source": [],
      "metadata": {
        "id": "K78odrOemfey"
      },
      "execution_count": null,
      "outputs": []
    },
    {
      "cell_type": "code",
      "source": [],
      "metadata": {
        "id": "i7hU4JlKmfiO"
      },
      "execution_count": null,
      "outputs": []
    },
    {
      "cell_type": "code",
      "source": [],
      "metadata": {
        "id": "6r6cFFY_me58"
      },
      "execution_count": null,
      "outputs": []
    },
    {
      "cell_type": "code",
      "source": [],
      "metadata": {
        "id": "Diidz8IbVdgF"
      },
      "execution_count": null,
      "outputs": []
    },
    {
      "cell_type": "code",
      "source": [],
      "metadata": {
        "id": "WkJu-quYVdiN"
      },
      "execution_count": null,
      "outputs": []
    },
    {
      "cell_type": "code",
      "source": [],
      "metadata": {
        "id": "_zdzgsrRA4dJ"
      },
      "execution_count": null,
      "outputs": []
    }
  ]
}